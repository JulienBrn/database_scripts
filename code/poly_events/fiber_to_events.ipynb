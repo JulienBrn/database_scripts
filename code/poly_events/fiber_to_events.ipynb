{
 "cells": [
  {
   "cell_type": "code",
   "execution_count": null,
   "metadata": {},
   "outputs": [],
   "source": [
    "import pandas as pd, numpy as np,xarray as xr\n",
    "from pathlib import Path\n",
    "import re, yaml, copy, json\n",
    "import helper, events_methods"
   ]
  },
  {
   "cell_type": "code",
   "execution_count": null,
   "metadata": {},
   "outputs": [],
   "source": [
    "base = Path(\"/home/julienb/Documents/database_scripts/database_scripts_test/fiberevent_files/Rat/Rat101_0729_opto_01/\")\n",
    "event_path = helper.singleglob(base, \"Events.csv\")\n",
    "info_path = helper.singleglob(base, \"*.yaml\", search_upward_limit=Path(\"/home/julienb/Documents/database_scripts/database_scripts_test/fiberevent_files/\"))\n",
    "res_events_path = base/\"events.tsv\"\n",
    "info_path"
   ]
  },
  {
   "cell_type": "code",
   "execution_count": null,
   "metadata": {},
   "outputs": [],
   "source": [
    "event_df = pd.read_csv(event_path, sep=\",\").rename(columns=dict(Name=\"channel_name\"))\n",
    "event_df.insert(0, \"t\", event_df.pop(\"TimeStamp\")/1000)\n",
    "event_df"
   ]
  },
  {
   "cell_type": "code",
   "execution_count": null,
   "metadata": {},
   "outputs": [],
   "source": [
    "info = yaml.safe_load(info_path.open(\"r\"))\n",
    "info"
   ]
  },
  {
   "cell_type": "code",
   "execution_count": null,
   "metadata": {},
   "outputs": [],
   "source": [
    "event_spec = events_methods.FiberEventProcessing.process_info(event_df[\"channel_name\"].drop_duplicates().to_list(), info[\"processing\"])\n",
    "pd.DataFrame(list(event_spec.values()))"
   ]
  },
  {
   "cell_type": "code",
   "execution_count": null,
   "metadata": {},
   "outputs": [],
   "source": [
    "all=[]\n",
    "for ev_name, item in event_spec.items():\n",
    "    ev_dataframe = events_methods.FiberEventProcessing.compute_evdataframe(event_df, item)\n",
    "    events = events_methods.FiberEventProcessing.call(item[\"method\"],ev_dataframe, item)\n",
    "    if len(events.index)!=0:\n",
    "        all.append(events)\n",
    "all = pd.concat(all).sort_values(\"t\")[[\"event_name\", \"t\", \"duration\", \"n_segments\",\"metadata\", \"waveform_changes\", \"waveform_values\"]]\n",
    "all"
   ]
  },
  {
   "cell_type": "code",
   "execution_count": null,
   "metadata": {},
   "outputs": [],
   "source": [
    "if \"display\" in info and \"rename\" in info[\"display\"]:\n",
    "    all[\"event_name\"] = all[\"event_name\"].map(lambda e: info[\"display\"][\"rename\"][e] if e in info[\"display\"][\"rename\"] else e)\n",
    "json_cols = [\"metadata\", \"waveform_changes\", \"waveform_values\"]\n",
    "for col in json_cols:\n",
    "    all[f\"{col}_json\"] = all[col].apply(lambda d: json.dumps(d))\n",
    "all.drop(columns=json_cols).to_csv(res_events_path, sep=\"\\t\", index=False)\n",
    "reloaded = pd.read_csv(res_events_path, sep=\"\\t\", index_col=False)\n",
    "for col in reloaded.columns:\n",
    "    if col.endswith(\"_json\"):\n",
    "        reloaded[col[:-4]] = reloaded.pop(col).apply(lambda s: json.loads(s) if not pd.isna(s) else None)\n",
    "reloaded"
   ]
  }
 ],
 "metadata": {
  "kernelspec": {
   "display_name": "dev",
   "language": "python",
   "name": "python3"
  },
  "language_info": {
   "codemirror_mode": {
    "name": "ipython",
    "version": 3
   },
   "file_extension": ".py",
   "mimetype": "text/x-python",
   "name": "python",
   "nbconvert_exporter": "python",
   "pygments_lexer": "ipython3",
   "version": "3.11.8"
  }
 },
 "nbformat": 4,
 "nbformat_minor": 2
}
