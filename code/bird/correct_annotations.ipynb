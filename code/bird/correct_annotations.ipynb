{
 "cells": [
  {
   "cell_type": "code",
   "execution_count": null,
   "metadata": {},
   "outputs": [],
   "source": [
    "import pandas as pd, numpy as np, xarray as xr\n",
    "from pathlib import Path\n",
    "import re, yaml, copy, json\n",
    "import helper, config_adapter\n",
    "from helper import RenderJSON\n",
    "import scipy.io"
   ]
  },
  {
   "cell_type": "code",
   "execution_count": null,
   "metadata": {},
   "outputs": [],
   "source": [
    "import plotly\n",
    "plotly.offline.init_notebook_mode()\n",
    "plotly_config = {'scrollZoom': True, 'displaylogo': False, 'toImageButtonOptions': {\n",
    "    'format': 'svg', # one of png, svg, jpeg, webp\n",
    "    'filename': 'custom_image',\n",
    "    'height': None,\n",
    "    'width': None,\n",
    "    'scale': 1 # Multiply title/legend/axis/canvas sizes by this factor\n",
    "  },\n",
    "  'modeBarButtonsToAdd': \n",
    "    ['drawline',\n",
    "    'drawopenpath',\n",
    "    'drawclosedpath',\n",
    "    'drawcircle',\n",
    "    'drawrect',\n",
    "    'eraseshape'\n",
    "    ]\n",
    "  \n",
    "  }"
   ]
  },
  {
   "cell_type": "code",
   "execution_count": null,
   "metadata": {},
   "outputs": [],
   "source": [
    "import itables\n",
    "itables.init_notebook_mode(all_interactive=True )\n",
    "itables.options.maxBytes = \"1MB\"\n",
    "itables.options.lengthMenu = [25, 10, 50, 100, 200]\n",
    "itables.options.buttons = [\"copyHtml5\", \"csvHtml5\", \"excelHtml5\"]\n",
    "itables.options.layout={\"topEnd\": \"pageLength\", \"top1\": \"searchBuilder\"}"
   ]
  },
  {
   "cell_type": "code",
   "execution_count": null,
   "metadata": {},
   "outputs": [],
   "source": [
    "params = yaml.safe_load(Path(\"params.yaml\").open(\"r\"))\n",
    "RenderJSON(params)"
   ]
  },
  {
   "cell_type": "code",
   "execution_count": null,
   "metadata": {},
   "outputs": [],
   "source": [
    "config_path = Path(params[\"config_path\"])\n",
    "config = config_adapter.load(config_path)\n",
    "RenderJSON(config)"
   ]
  },
  {
   "cell_type": "code",
   "execution_count": null,
   "metadata": {},
   "outputs": [],
   "source": [
    "annotations = pd.read_csv(params[\"annotation_path\"]).rename(columns={\"name\": \"label\", \"start_seconds\": \"start\", \"stop_seconds\": \"end\"}).sort_values(\"start\")\n",
    "annotations"
   ]
  },
  {
   "cell_type": "code",
   "execution_count": null,
   "metadata": {},
   "outputs": [],
   "source": [
    "fs, data = scipy.io.wavfile.read(params[\"audio_path\"])\n",
    "song = xr.Dataset()\n",
    "song[\"data\"] = xr.DataArray(data, dims=\"t\")\n",
    "song[\"t\"] = np.arange(data.size)/fs\n",
    "song[\"t\"].attrs[\"fs\"] = fs\n",
    "song"
   ]
  },
  {
   "cell_type": "code",
   "execution_count": null,
   "metadata": {},
   "outputs": [],
   "source": [
    "volume_params = config[\"processing\"][\"volume\"]\n",
    "win_size = int(np.round(volume_params[\"window_duration\"]*fs))\n",
    "stride = int(np.round(fs/volume_params[\"approx_out_fs\"]))\n",
    "if volume_params[\"window_type\"] == \"hanning\":\n",
    "    window = xr.DataArray(np.hanning(win_size), dims=\"window\")\n",
    "else:\n",
    "    raise Exception(f'Unhandled windowtype {volume_params[\"window_type\"]}')\n",
    "tmp = song[\"data\"].rolling(t=win_size, center=True).construct(\"window\", stride = stride).dropna(dim=\"t\", how=\"any\")\n",
    "tmp"
   ]
  },
  {
   "cell_type": "code",
   "execution_count": null,
   "metadata": {},
   "outputs": [],
   "source": [
    "\n",
    "volume = xr.Dataset()\n",
    "volume[\"volume\"] =  np.abs(tmp * window).mean(\"window\")\n",
    "if volume_params[\"scale\"] == 'log':\n",
    "    volume[\"volume\"] = np.log10(volume[\"volume\"])\n",
    "elif volume_params[\"scale\"] == 'linear': pass\n",
    "else: raise Exception(\"Unknwon scale...\")\n",
    "volume_fs = fs/stride\n",
    "volume[\"t\"].attrs[\"fs\"] = volume_fs\n",
    "# volume[\"incr\"] = volume[\"volume\"] - volume[\"volume\"].shift(t=1)\n",
    "volume"
   ]
  },
  {
   "cell_type": "code",
   "execution_count": null,
   "metadata": {},
   "outputs": [],
   "source": [
    "syb = annotations.to_xarray().rename_dims(dict(index=\"syb\"))\n",
    "syb"
   ]
  },
  {
   "cell_type": "code",
   "execution_count": null,
   "metadata": {},
   "outputs": [],
   "source": [
    "window = xr.DataArray(np.arange(int(np.round((config[\"processing\"][\"correction_limits\"][1] - config[\"processing\"][\"correction_limits\"][0])*volume_fs)))/volume_fs + config[\"processing\"][\"correction_limits\"][0], dims=\"window_t\")\n",
    "window[\"window_t\"] = window\n",
    "\n",
    "def get_volume_window(syb_t, prev_t, next_t):\n",
    "    return volume[\"volume\"].sel(t=window + syb_t, method=\"nearest\").where(\n",
    "            (window + syb_t <  next_t) & (window + syb_t >  prev_t)\n",
    "            )\n",
    "\n",
    "syb_window_volume_start = get_volume_window(syb[\"start\"], syb[\"end\"].shift(syb=1, fill_value=-np.inf), syb[\"end\"])\n",
    "syb_window_volume_end = get_volume_window(syb[\"end\"], syb[\"start\"], syb[\"start\"].shift(syb=-1, fill_value=np.inf))\n",
    "\n",
    "display(syb_window_volume_start)\n",
    "display(syb_window_volume_end)\n",
    "\n"
   ]
  },
  {
   "cell_type": "code",
   "execution_count": null,
   "metadata": {},
   "outputs": [],
   "source": [
    "if config[\"processing\"][\"method\"] == \"derivative\":\n",
    "    def compute_new_start(swv: xr.DataArray):\n",
    "        return (swv - swv.shift(window_t=1)).idxmax(\"window_t\")\n",
    "    def compute_new_end(swv: xr.DataArray):\n",
    "        return (swv - swv.shift(window_t=1)).idxmin(\"window_t\")\n",
    "elif config[\"processing\"][\"method\"] == \"threshold\":\n",
    "    volume_dist = volume[\"volume\"].to_dataframe().reset_index()\n",
    "    for row in annotations.to_dict(orient=\"index\").values():\n",
    "        volume_dist = volume_dist.loc[(volume_dist[\"t\"] > row[\"end\"]+0.01) |  (volume_dist[\"t\"] < row[\"start\"]-0.01)]\n",
    "    th_value = volume_dist.eval(config[\"processing\"][\"method_params\"][\"threshold_expr\"])\n",
    "    display(f'Used threshold value: {th_value}')\n",
    "    def compute_new_start(swv: xr.DataArray):\n",
    "        return swv[\"window_t\"].where(swv < th_value).max(\"window_t\").fillna(swv[\"window_t\"].max())\n",
    "    def compute_new_end(swv: xr.DataArray):\n",
    "        return swv[\"window_t\"].where(swv > th_value).min(\"window_t\").fillna(swv[\"window_t\"].min())\n",
    "else:\n",
    "    raise Exception(f'Unknown method {config[\"processing\"][\"method\"]}')\n",
    "syb[\"new_start\"] = compute_new_start(syb_window_volume_start) + syb[\"start\"]\n",
    "syb[\"new_end\"] = compute_new_end(syb_window_volume_end) + syb[\"end\"]\n",
    "overlaps = syb[\"new_end\"]>syb[\"new_start\"].shift(syb=-1)\n",
    "noverlap = (syb[\"new_end\"]>syb[\"new_start\"].shift(syb=-1)).sum().item()\n",
    "display(syb.to_dataframe())\n",
    "noverlap"
   ]
  },
  {
   "cell_type": "code",
   "execution_count": null,
   "metadata": {},
   "outputs": [],
   "source": [
    "\n",
    "syb[\"new_end\"] = xr.where(overlaps, compute_new_end(get_volume_window(syb[\"end\"], syb[\"new_start\"], syb[\"new_start\"].shift(syb=-1, fill_value=np.inf))) + syb[\"end\"], syb[\"new_end\"])\n",
    "overlaps = syb[\"new_end\"]>syb[\"new_start\"].shift(syb=-1, fill_value=np.inf)\n",
    "noverlap = overlaps.sum().item()\n",
    "if noverlap!=0:\n",
    "    overlapped = syb[\"new_end\"].shift(syb=1, fill_value=-np.inf)> syb[\"new_start\"]\n",
    "    display(syb.where(overlaps | overlapped, drop=True).to_dataframe())\n",
    "    raise Exception(\"Overlapping in correct bounds...\")\n",
    "syb_df = syb.to_dataframe()\n",
    "display(syb_df)"
   ]
  },
  {
   "cell_type": "code",
   "execution_count": null,
   "metadata": {},
   "outputs": [],
   "source": [
    "out_annotations =syb_df.drop(columns=\"index\").rename(columns=dict(start=\"uncorrected_start\", end=\"uncorrected_end\", new_start=\"start_seconds\", new_end=\"stop_seconds\", label=\"name\"))\n",
    "out_annotations.to_csv(params[\"out_annotations\"], index=False)\n"
   ]
  },
  {
   "cell_type": "code",
   "execution_count": null,
   "metadata": {},
   "outputs": [],
   "source": [
    "import plotly.graph_objects as go\n",
    "from plotly.subplots import make_subplots\n",
    "fig = make_subplots(specs=[[{\"secondary_y\": True}]])\n",
    "fig.add_trace(go.Scatter(\n",
    "        x=song[\"t\"].to_numpy(),\n",
    "        y=song[\"data\"].to_numpy(),\n",
    "        showlegend=True,\n",
    "        name=\"song\",\n",
    "))\n",
    "fig.add_trace(go.Scatter(\n",
    "        x=volume[\"t\"].to_numpy(),\n",
    "        y=volume[\"volume\"].to_numpy(),\n",
    "        showlegend=True,\n",
    "        name=\"volume\",\n",
    "), secondary_y=True)\n",
    "\n",
    "for _, row in out_annotations.to_dict(orient=\"index\").items():\n",
    "    fig.add_vrect(x0=row[\"start_seconds\"], x1=row[\"stop_seconds\"], \n",
    "                label = dict(\n",
    "                    text=row[\"name\"],\n",
    "                    textposition=\"top center\",\n",
    "                    font=dict(size=20, family=\"Times New Roman\", color=\"MediumPurple\"),\n",
    "                ),\n",
    "                line=dict(color=\"MediumPurple\"))\n",
    "    fig.add_vrect(x0=row[\"uncorrected_start\"], x1=row[\"uncorrected_end\"], \n",
    "                line=dict(color=\"yellow\", dash=\"dot\"))\n",
    "\n",
    "fig.update_layout(hovermode='x unified')\n",
    "# fig.update_layout(yaxis=dict(side=\"left\"), yaxis2=dict(side=\"right\"))\n",
    "fig.show(config = plotly_config)"
   ]
  }
 ],
 "metadata": {
  "language_info": {
   "name": "python"
  }
 },
 "nbformat": 4,
 "nbformat_minor": 2
}
