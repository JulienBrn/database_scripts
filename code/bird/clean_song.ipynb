{
 "cells": [
  {
   "cell_type": "code",
   "execution_count": null,
   "metadata": {},
   "outputs": [],
   "source": [
    "import pandas as pd, numpy as np,xarray as xr\n",
    "from pathlib import Path\n",
    "import re, yaml, copy, json\n",
    "import helper, config_adapter\n",
    "from helper import RenderJSON"
   ]
  },
  {
   "cell_type": "code",
   "execution_count": null,
   "metadata": {},
   "outputs": [],
   "source": [
    "import itables\n",
    "itables.init_notebook_mode(all_interactive=True )\n",
    "itables.options.maxBytes = \"1MB\"\n",
    "itables.options.lengthMenu = [25, 10, 50, 100, 200]\n",
    "itables.options.buttons = [\"copyHtml5\", \"csvHtml5\", \"excelHtml5\"]\n",
    "itables.options.layout={\"topEnd\": \"pageLength\", \"top1\": \"searchBuilder\"}"
   ]
  },
  {
   "cell_type": "code",
   "execution_count": null,
   "metadata": {},
   "outputs": [],
   "source": [
    "params = yaml.safe_load(Path(\"params.yaml\").open(\"r\"))\n",
    "RenderJSON(params)"
   ]
  },
  {
   "cell_type": "code",
   "execution_count": null,
   "metadata": {},
   "outputs": [],
   "source": [
    "config = yaml.safe_load(Path(params[\"config_path\"]).open(\"r\"))\n",
    "song_path = Path(params[\"song_path\"])\n",
    "RenderJSON(config)"
   ]
  },
  {
   "cell_type": "code",
   "execution_count": null,
   "metadata": {},
   "outputs": [],
   "source": [
    "ds = xr.Dataset()\n",
    "if config[\"processing\"][\"load\"][\"method\"] == \"wav\":\n",
    "    import scipy.io.wavfile\n",
    "    fs, data = scipy.io.wavfile.read(song_path)\n",
    "    data = np.squeeze(data)\n",
    "    if data.ndim > 1:\n",
    "        raise Exception(\"Only single channel wav handled\")\n",
    "    ds[\"song\"] = xr.DataArray(data, dims=\"t\")\n",
    "    ds[\"t\"] = np.arange(data.size)/fs\n",
    "    ds[\"t\"].attrs[\"fs\"] = fs\n",
    "else:\n",
    "    raise Exception(f'Unknown load method {config[\"processing\"][\"load\"][\"method\"]}')\n",
    "display(ds)\n"
   ]
  },
  {
   "cell_type": "code",
   "execution_count": null,
   "metadata": {},
   "outputs": [],
   "source": [
    "if \"filter\" in config[\"processing\"]:\n",
    "    if config[\"processing\"][\"filter\"][\"method\"] == \"butter\":\n",
    "        import scipy.signal\n",
    "        filter_params = config[\"processing\"][\"filter\"][\"method_params\"]\n",
    "        filter = scipy.signal.butter(filter_params[\"order\"], [filter_params[\"min_freq\"], filter_params[\"max_freq\"]], \"bandpass\", fs=fs, output=\"sos\")\n",
    "        ds[\"filtered_song\"] = xr.DataArray(scipy.signal.sosfiltfilt(filter, ds[\"song\"].to_numpy()), dims=\"t\")\n",
    "    else:\n",
    "        raise Exception(f'Unknown load method {config[\"processing\"][\"filter\"][\"method\"]}')\n",
    "else:\n",
    "    ds[\"filtered_song\"] = ds[\"song\"]\n",
    "ds"
   ]
  },
  {
   "cell_type": "code",
   "execution_count": null,
   "metadata": {},
   "outputs": [],
   "source": [
    "if \"resample\" in config[\"processing\"]:\n",
    "    if config[\"processing\"][\"resample\"][\"method\"] == \"interpolation\":\n",
    "        filter_params = config[\"processing\"][\"resample\"][\"method_params\"]\n",
    "        new_fs = pd.DataFrame([dict(song_fs=fs)]).eval(filter_params[\"out_fs_expr\"]).iat[0]\n",
    "        if new_fs != fs:\n",
    "            ds[\"resampled_song\"] = ds[\"filtered_song\"].interp(dict(t=np.arange(int(ds[\"t\"].max().item()*new_fs))/new_fs)).rename(t=\"new_t\")\n",
    "            ds[\"new_t\"].attrs[\"fs\"] = new_fs\n",
    "        else:\n",
    "            ds[\"resampled_song\"] = ds[\"filtered_song\"].rename(t=\"new_t\")\n",
    "            ds[\"new_t\"].attrs[\"fs\"] = new_fs\n",
    "    else:\n",
    "        raise Exception(f'Unknown resample method {config[\"processing\"][\"resample\"][\"method\"]}')\n",
    "else:\n",
    "    ds[\"resampled_song\"] = ds[\"filtered_song\"].rename(t=\"new_t\")\n",
    "    ds[\"new_t\"].attrs[\"fs\"] = fs\n",
    "ds"
   ]
  },
  {
   "cell_type": "code",
   "execution_count": null,
   "metadata": {},
   "outputs": [],
   "source": [
    "if config[\"processing\"][\"dump\"][\"method\"] == \"wav\":\n",
    "    import scipy.io.wavfile\n",
    "    scipy.io.wavfile.write(song_path.name, ds[\"new_t\"].attrs[\"fs\"], ds[\"resampled_song\"].to_numpy().astype(np.int16))\n",
    "else:\n",
    "    raise Exception(f'Unknown dump method {config[\"processing\"][\"dump\"][\"method\"]}')"
   ]
  }
 ],
 "metadata": {
  "kernelspec": {
   "display_name": "dbscripts",
   "language": "python",
   "name": "python3"
  },
  "language_info": {
   "codemirror_mode": {
    "name": "ipython",
    "version": 3
   },
   "file_extension": ".py",
   "mimetype": "text/x-python",
   "name": "python",
   "nbconvert_exporter": "python",
   "pygments_lexer": "ipython3",
   "version": "3.11.10"
  }
 },
 "nbformat": 4,
 "nbformat_minor": 2
}
