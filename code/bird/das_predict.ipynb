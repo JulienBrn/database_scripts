{
 "cells": [
  {
   "cell_type": "code",
   "execution_count": null,
   "metadata": {},
   "outputs": [],
   "source": [
    "import das.train \n",
    "from helper import RenderJSON\n",
    "import helper, config_adapter\n",
    "import pandas as pd, numpy as np,xarray as xr, yaml\n",
    "from pathlib import Path"
   ]
  },
  {
   "cell_type": "code",
   "execution_count": null,
   "metadata": {},
   "outputs": [],
   "source": [
    "params = yaml.safe_load(Path(\"params.yaml\").open(\"r\"))\n",
    "config_path = Path(params[\"config_path\"])\n",
    "RenderJSON(params)"
   ]
  },
  {
   "cell_type": "code",
   "execution_count": null,
   "metadata": {},
   "outputs": [],
   "source": [
    "config = config_adapter.load(config_path)\n",
    "RenderJSON(config)"
   ]
  },
  {
   "cell_type": "code",
   "execution_count": null,
   "metadata": {},
   "outputs": [],
   "source": [
    "data_path = params[\"song_path\"]\n",
    "import scipy.io.wavfile\n",
    "fs, data = scipy.io.wavfile.read(data_path)"
   ]
  },
  {
   "cell_type": "code",
   "execution_count": null,
   "metadata": {},
   "outputs": [],
   "source": [
    "from ruamel.yaml import YAML\n",
    "yaml = YAML(typ=\"base\")\n",
    "model_path = params[\"model_path\"]\n",
    "model_params_path: Path = helper.singleglob(Path(model_path), \"*_params.yaml\")\n",
    "model_das_path = model_params_path.with_name(model_params_path.name[:-len(\"_params.yaml\")])\n",
    "# print(\"TOTO\")\n",
    "# print(str(model_das_path))\n",
    "model_params  = yaml.load(model_params_path.open(\"r\"))\n",
    "RenderJSON(model_params)"
   ]
  },
  {
   "cell_type": "code",
   "execution_count": null,
   "metadata": {},
   "outputs": [],
   "source": [
    "\n",
    "# if model_params[\"samplerate_x_Hz\"] != fs:\n",
    "#     raise Exception(f'fs problem: model_fs is {model_params[\"samplerate_x_Hz\"]}, data_fs is {fs}')\n",
    "events, segments, class_probabilities, class_names = das.predict.predict(data.reshape(-1, 1), \n",
    "                                                           model_save_name=str(model_das_path),\n",
    "                                                           **config[\"das_predict_params\"])\n"
   ]
  },
  {
   "cell_type": "code",
   "execution_count": null,
   "metadata": {},
   "outputs": [],
   "source": [
    "for k,v in segments.items():\n",
    "    print(k)\n",
    "    if hasattr(v, \"shape\"):\n",
    "        print(v.shape)\n",
    "    display(v)\n",
    "    "
   ]
  }
 ],
 "metadata": {
  "kernelspec": {
   "display_name": "das",
   "language": "python",
   "name": "python3"
  },
  "language_info": {
   "name": "python",
   "version": "3.10.8"
  }
 },
 "nbformat": 4,
 "nbformat_minor": 2
}
