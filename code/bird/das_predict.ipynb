{
 "cells": [
  {
   "cell_type": "code",
   "execution_count": null,
   "metadata": {},
   "outputs": [],
   "source": [
    "import das.train \n",
    "from helper import RenderJSON\n",
    "import helper, config_adapter\n",
    "import pandas as pd, numpy as np,xarray as xr, yaml\n",
    "from pathlib import Path\n",
    "import scipy.io.wavfile"
   ]
  },
  {
   "cell_type": "code",
   "execution_count": null,
   "metadata": {},
   "outputs": [],
   "source": [
    "params = yaml.safe_load(Path(\"params.yaml\").open(\"r\"))\n",
    "RenderJSON(params)"
   ]
  },
  {
   "cell_type": "code",
   "execution_count": null,
   "metadata": {},
   "outputs": [],
   "source": [
    "config_path = Path(params[\"config_path\"])\n",
    "config = config_adapter.load(config_path)\n",
    "RenderJSON(config)"
   ]
  },
  {
   "cell_type": "code",
   "execution_count": null,
   "metadata": {},
   "outputs": [],
   "source": [
    "fs, data = scipy.io.wavfile.read(params[\"audio_path\"])\n",
    "song = xr.Dataset()\n",
    "song[\"data\"] = xr.DataArray(data, dims=\"t\")\n",
    "song[\"t\"] = np.arange(data.size)/fs\n",
    "song[\"t\"].attrs[\"fs\"] = fs\n",
    "song"
   ]
  },
  {
   "cell_type": "code",
   "execution_count": null,
   "metadata": {},
   "outputs": [],
   "source": [
    "import das.utils\n",
    "model_params = das.utils.load_params(str(Path(params[\"model_path\"]).parent /\"das\"))\n",
    "model_fs = model_params[\"samplerate_x_Hz\"]\n",
    "model_fs"
   ]
  },
  {
   "cell_type": "code",
   "execution_count": null,
   "metadata": {},
   "outputs": [],
   "source": [
    "if model_fs != fs:\n",
    "    interp = song.interp(t=np.arange(((song[\"t\"].max() - song[\"t\"].min())*model_fs).astype(int).item())/model_fs + song[\"t\"].min())\n",
    "    interp[\"t\"].attrs[\"fs\"] = model_fs\n",
    "else:\n",
    "    interp = song\n",
    "interp"
   ]
  },
  {
   "cell_type": "code",
   "execution_count": null,
   "metadata": {},
   "outputs": [],
   "source": [
    "events, segments, class_probabilities, class_names = das.predict.predict(data.reshape(-1, 1), \n",
    "                                                           model_save_name=str(Path(params[\"model_path\"]).parent /\"das\"),\n",
    "                                                           **config[\"das_predict_params\"])\n",
    "events, segments, class_probabilities, class_names"
   ]
  },
  {
   "cell_type": "code",
   "execution_count": null,
   "metadata": {},
   "outputs": [],
   "source": [
    "import das.annot\n",
    "df = das.annot.Events.from_predict(events, segments).to_df().sort_values(\"start_seconds\").reset_index(drop=True).dropna(subset=\"start_seconds\")\n",
    "df"
   ]
  },
  {
   "cell_type": "code",
   "execution_count": null,
   "metadata": {},
   "outputs": [],
   "source": [
    "df[df[\"name\"]!=\"noise\"].to_csv(params[\"out_annotations\"])"
   ]
  }
 ],
 "metadata": {
  "kernelspec": {
   "display_name": "das",
   "language": "python",
   "name": "python3"
  },
  "language_info": {
   "name": "python",
   "version": "3.10.8"
  }
 },
 "nbformat": 4,
 "nbformat_minor": 2
}
