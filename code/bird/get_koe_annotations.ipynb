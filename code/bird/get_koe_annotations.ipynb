{
 "cells": [
  {
   "cell_type": "code",
   "execution_count": null,
   "metadata": {},
   "outputs": [],
   "source": [
    "import urllib.request, zipfile\n",
    "import pandas as pd, numpy as np,xarray as xr\n",
    "from pathlib import Path\n",
    "import re, yaml, copy, json\n",
    "import helper, config_adapter\n",
    "from helper import RenderJSON"
   ]
  },
  {
   "cell_type": "code",
   "execution_count": null,
   "metadata": {},
   "outputs": [],
   "source": [
    "import itables\n",
    "itables.init_notebook_mode(all_interactive=True )\n",
    "itables.options.maxBytes = \"1MB\"\n",
    "itables.options.lengthMenu = [25, 10, 50, 100, 200]\n",
    "itables.options.buttons = [\"copyHtml5\", \"csvHtml5\", \"excelHtml5\"]\n",
    "itables.options.layout={\"topEnd\": \"pageLength\", \"top1\": \"searchBuilder\"}"
   ]
  },
  {
   "cell_type": "code",
   "execution_count": null,
   "metadata": {},
   "outputs": [],
   "source": [
    "params = yaml.safe_load(Path(\"params.yaml\").open(\"r\"))\n",
    "RenderJSON(params)"
   ]
  },
  {
   "cell_type": "code",
   "execution_count": null,
   "metadata": {},
   "outputs": [],
   "source": [
    "zip_path = Path(\"koe.zip\")\n",
    "zip_path.parent.mkdir(exist_ok=True, parents=True)\n",
    "urllib.request.urlretrieve(params[\"koe_link\"], zip_path)\n",
    "zip = zipfile.Path(zip_path)\n",
    "display(RenderJSON([str(s) for s in zip.iterdir()]))\n"
   ]
  },
  {
   "cell_type": "code",
   "execution_count": null,
   "metadata": {},
   "outputs": [],
   "source": [
    "timestamps = zip / \"songinfo.json\"\n",
    "with timestamps.open(\"r\") as f:\n",
    "    timestamps = json.load(f)\n",
    "all = []\n",
    "for f, k in timestamps.items():\n",
    "    all.append(pd.DataFrame(k[1], columns=[\"id\", \"start\", \"end\", \"?1\", \"?2\", \"?3\", \"?id2\"]).assign(file=f)[[\"id\", \"file\", \"start\", \"end\"]])\n",
    "timestamps = pd.concat(all)\n",
    "timestamps[[\"start\", \"end\"]] = timestamps[[\"start\", \"end\"]] /1000\n",
    "timestamps"
   ]
  },
  {
   "cell_type": "code",
   "execution_count": null,
   "metadata": {},
   "outputs": [],
   "source": [
    "\n",
    "\n",
    "labels = zip / \"segment.extraattrvalue.json\"\n",
    "with labels.open(\"r\") as f:\n",
    "    labels = json.load(f)\n",
    "labels = pd.DataFrame(labels, columns=[\"id\", \"?\", \"label\"])[[\"id\", \"label\"]]\n",
    "labels\n"
   ]
  },
  {
   "cell_type": "code",
   "execution_count": null,
   "metadata": {},
   "outputs": [],
   "source": [
    "\n",
    "all = pd.merge(timestamps, labels, on=\"id\", how=\"outer\").drop(columns=\"id\")\n",
    "all"
   ]
  },
  {
   "cell_type": "code",
   "execution_count": null,
   "metadata": {},
   "outputs": [],
   "source": [
    "name_template = params[\"annot_filename_template\"]\n",
    "files = []\n",
    "for p, grp in all.groupby(\"file\"):\n",
    "    filename=Path(name_template.format(filestem=Path(p).stem))\n",
    "    grp.rename(columns=dict(label=\"name\", start=\"start_seconds\", end=\"stop_seconds\"))[[\"name\", \"start_seconds\", \"stop_seconds\"]].reset_index(drop=True).to_csv(filename, index=False)\n",
    "    files.append(dict(audio_filename=p, annotation_filename = filename))\n",
    "files = pd.DataFrame(files)\n",
    "files.to_csv(params[\"file_table_filename\"], index=False, sep=\"\\t\")\n",
    "files"
   ]
  }
 ],
 "metadata": {
  "language_info": {
   "name": "python"
  }
 },
 "nbformat": 4,
 "nbformat_minor": 2
}
