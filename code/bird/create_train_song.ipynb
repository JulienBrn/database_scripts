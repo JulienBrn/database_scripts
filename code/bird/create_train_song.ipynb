{
 "cells": [
  {
   "cell_type": "code",
   "execution_count": null,
   "metadata": {},
   "outputs": [],
   "source": [
    "import urllib.request, zipfile\n",
    "import pandas as pd, numpy as np,xarray as xr\n",
    "from pathlib import Path\n",
    "import re, yaml, copy, json\n",
    "import helper, config_adapter\n",
    "from helper import RenderJSON\n",
    "import scipy.io.wavfile"
   ]
  },
  {
   "cell_type": "code",
   "execution_count": null,
   "metadata": {},
   "outputs": [],
   "source": [
    "import itables\n",
    "itables.init_notebook_mode(all_interactive=True )\n",
    "itables.options.maxBytes = \"1MB\"\n",
    "itables.options.lengthMenu = [25, 10, 50, 100, 200]\n",
    "itables.options.buttons = [\"copyHtml5\", \"csvHtml5\", \"excelHtml5\"]\n",
    "itables.options.layout={\"topEnd\": \"pageLength\", \"top1\": \"searchBuilder\"}"
   ]
  },
  {
   "cell_type": "code",
   "execution_count": null,
   "metadata": {},
   "outputs": [],
   "source": [
    "params = yaml.safe_load(Path(\"params.yaml\").open(\"r\"))\n",
    "RenderJSON(params)"
   ]
  },
  {
   "cell_type": "code",
   "execution_count": null,
   "metadata": {},
   "outputs": [],
   "source": [
    "files = pd.DataFrame(params[\"files\"])\n",
    "files"
   ]
  },
  {
   "cell_type": "code",
   "execution_count": null,
   "metadata": {},
   "outputs": [],
   "source": [
    "config_path = Path(params[\"config_path\"])\n",
    "config = config_adapter.load(config_path)\n",
    "RenderJSON(config)"
   ]
  },
  {
   "cell_type": "code",
   "execution_count": null,
   "metadata": {},
   "outputs": [],
   "source": [
    "import random\n",
    "if \"random_seed\" in config:\n",
    "    random.seed(config[\"random_seed\"])"
   ]
  },
  {
   "cell_type": "code",
   "execution_count": null,
   "metadata": {},
   "outputs": [],
   "source": [
    "annotations = []\n",
    "for row in files.to_dict(orient=\"index\").values():\n",
    "    annotations.append(pd.read_csv(row[\"annotation_path\"]).rename(columns={\"name\": \"label\", \"start_seconds\": \"start\", \"stop_seconds\": \"end\"}).assign(audio_path=row[\"audio_path\"], file=row[\"annotation_path\"]))\n",
    "annotations = pd.concat(annotations).sort_values([\"audio_path\", \"start\"])\n",
    "annotations"
   ]
  },
  {
   "cell_type": "code",
   "execution_count": null,
   "metadata": {},
   "outputs": [],
   "source": [
    "block_shoulder_duration = config[\"processing\"][\"block_shoulder_duration\"]\n",
    "annotations[\"block_change\"] = (annotations[\"file\"] != annotations[\"file\"].shift(1)) | ((annotations[\"start\"] - 2*block_shoulder_duration) > annotations[\"end\"].shift(1))\n",
    "annotations[\"block\"] = annotations[\"block_change\"].cumsum()\n",
    "annotations = annotations.drop(columns=\"block_change\")\n",
    "annotations\n"
   ]
  },
  {
   "cell_type": "code",
   "execution_count": null,
   "metadata": {},
   "outputs": [],
   "source": [
    "\n",
    "groups = [df for _, df in annotations.groupby('block')]\n",
    "random.shuffle(groups)\n",
    "ars=[]\n",
    "t_prev=0\n",
    "common_fs = None\n",
    "i=0\n",
    "rows = []\n",
    "for df in groups:\n",
    "    fs, data = scipy.io.wavfile.read(df[\"audio_path\"].iat[0], mmap=True)\n",
    "    if common_fs is None: common_fs = fs\n",
    "    elif fs!=common_fs: raise Exception(\"Not same fs\")\n",
    "\n",
    "    istart = int((max(df[\"start\"].min()-block_shoulder_duration, 0))*fs)\n",
    "    iend = min(int((df[\"end\"].max()+block_shoulder_duration)*fs), data.size)\n",
    "\n",
    "    ar = xr.Dataset()\n",
    "    ar[\"data\"] = xr.DataArray(data[istart: iend], dims=\"t\")\n",
    "    ar[\"t\"] = np.arange(ar[\"data\"].size)/fs + t_prev\n",
    "    ar[\"file\"] = df[\"audio_path\"].iat[0]\n",
    "    ar[\"t_file\"] = xr.DataArray(np.arange(istart, iend)/fs, dims=\"t\")\n",
    "    ar[\"block\"] = df[\"block\"].iat[0]\n",
    "    ar[\"label\"] = xr.DataArray(np.full(ar[\"t\"].size, \"noise\", dtype=str), dims=\"t\")\n",
    "    ar[\"syb_num\"] = xr.DataArray(np.full(ar[\"t\"].size, -1), dims=\"t\")\n",
    "    for _, row in df.to_dict(orient=\"index\").items():\n",
    "        ar[\"label\"] = xr.where((ar[\"t_file\"] >= row[\"start\"]) & (ar[\"t_file\"] <= row[\"end\"]), row[\"label\"], ar[\"label\"])\n",
    "        ar[\"syb_num\"] = xr.where((ar[\"t_file\"] >= row[\"start\"]) & (ar[\"t_file\"] <= row[\"end\"]), i, ar[\"syb_num\"])\n",
    "        # row[\"syb_num\"] = i\n",
    "        row[\"new_t_start\"] = row[\"start\"] - (df[\"start\"].min() - block_shoulder_duration) + t_prev\n",
    "        row[\"new_t_end\"] = row[\"end\"] - (df[\"start\"].min() - block_shoulder_duration) + t_prev\n",
    "        i+=1\n",
    "        rows.append(row)\n",
    "        \n",
    "    t_prev += ar[\"data\"].size/fs\n",
    "    ars.append(ar)\n",
    "        \n",
    "data: xr.Dataset = xr.concat(ars, dim=\"t\")\n",
    "data[\"t\"].attrs[\"fs\"] = common_fs\n",
    "df = pd.DataFrame(rows)\n",
    "\n"
   ]
  },
  {
   "cell_type": "code",
   "execution_count": null,
   "metadata": {},
   "outputs": [],
   "source": [
    "max_syb = len(df.index)\n",
    "if np.abs(np.sum(list(config[\"processing\"][\"split\"].values())) -1) > 10**(-5):\n",
    "    raise Exception(\"problem sum!=1\")\n",
    "df[\"goal\"] = \"none\"\n",
    "df[\"syb_num\"] = np.arange(len(df.index))\n",
    "cur=0\n",
    "for k,v in config[\"processing\"][\"split\"].items():\n",
    "    n = cur+ max_syb*v\n",
    "    df[\"goal\"] = np.where((df[\"syb_num\"] >=cur) & (df[\"syb_num\"] < n), str(k), df[\"goal\"])\n",
    "    cur=n\n",
    "    \n"
   ]
  },
  {
   "cell_type": "code",
   "execution_count": null,
   "metadata": {},
   "outputs": [],
   "source": [
    "stats = df.groupby([\"goal\", \"label\"]).apply(lambda d: pd.Series(dict(count=len(d.index), avg_duration=(d[\"end\"] - d[\"start\"]).mean())), include_groups=False).reset_index()\n",
    "totals = df.groupby(\"label\").apply(lambda d: pd.Series(dict(count=len(d.index), avg_duration=(d[\"end\"] - d[\"start\"]).mean())), include_groups=False).reset_index().assign(goal=\"all\")\n",
    "stats = pd.concat([stats, totals]).reset_index(drop=True).set_index([\"goal\", \"label\"]).unstack(\"goal\")\n",
    "stats[\"count\"] = stats[\"count\"].fillna(0)\n",
    "stats"
   ]
  },
  {
   "cell_type": "code",
   "execution_count": null,
   "metadata": {},
   "outputs": [],
   "source": [
    "out_annotations = df.rename(columns=dict(label=\"name\", new_t_start=\"start_seconds\", new_t_end=\"stop_seconds\", start=\"source_start\", end=\"source_end\", audio_path=\"source_audio\"))\n",
    "out_annotations.to_csv(params[\"out_annotations\"], index=False)\n",
    "display(out_annotations)\n"
   ]
  },
  {
   "cell_type": "code",
   "execution_count": null,
   "metadata": {},
   "outputs": [],
   "source": [
    "scipy.io.wavfile.write(params[\"out_song\"], fs, data[\"data\"].to_numpy())"
   ]
  }
 ],
 "metadata": {
  "kernelspec": {
   "display_name": "dbscripts",
   "language": "python",
   "name": "python3"
  },
  "language_info": {
   "codemirror_mode": {
    "name": "ipython",
    "version": 3
   },
   "file_extension": ".py",
   "mimetype": "text/x-python",
   "name": "python",
   "nbconvert_exporter": "python",
   "pygments_lexer": "ipython3",
   "version": "3.11.10"
  }
 },
 "nbformat": 4,
 "nbformat_minor": 2
}
