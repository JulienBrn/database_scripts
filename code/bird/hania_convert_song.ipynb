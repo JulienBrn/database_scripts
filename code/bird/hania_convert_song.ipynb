{
 "cells": [
  {
   "cell_type": "code",
   "execution_count": null,
   "metadata": {},
   "outputs": [],
   "source": [
    "import pandas as pd, numpy as np,xarray as xr\n",
    "from pathlib import Path\n",
    "import re, yaml, copy, json\n",
    "import helper, config_adapter\n",
    "from helper import RenderJSON\n",
    "import datetime"
   ]
  },
  {
   "cell_type": "code",
   "execution_count": null,
   "metadata": {},
   "outputs": [],
   "source": [
    "import itables\n",
    "itables.init_notebook_mode(all_interactive=True )\n",
    "itables.options.maxBytes = \"1MB\"\n",
    "itables.options.lengthMenu = [25, 10, 50, 100, 200]\n",
    "itables.options.buttons = [\"copyHtml5\", \"csvHtml5\", \"excelHtml5\"]\n",
    "itables.options.layout={\"topEnd\": \"pageLength\", \"top1\": \"searchBuilder\"}"
   ]
  },
  {
   "cell_type": "code",
   "execution_count": null,
   "metadata": {},
   "outputs": [],
   "source": [
    "params = yaml.safe_load(Path(\"params.yaml\").open(\"r\"))\n",
    "RenderJSON(params)"
   ]
  },
  {
   "cell_type": "code",
   "execution_count": null,
   "metadata": {},
   "outputs": [],
   "source": [
    "song_path = Path(params[\"song_path\"])\n",
    "import scipy.io.wavfile\n",
    "fs, data = scipy.io.wavfile.read(song_path)\n",
    "data = np.squeeze(data)\n",
    "if data.ndim != 1:\n",
    "    raise Exception(\"Expected wav files of length 1\")\n",
    "duration = data.size /fs\n",
    "ds = xr.Dataset()\n",
    "ds[\"song\"] = xr.DataArray(data, dims=\"t\")\n",
    "ds[\"t\"] = np.arange(data.size)/fs\n",
    "ds[\"t\"].attrs[\"fs\"] = fs\n",
    "display(fs)\n",
    "display(duration)\n",
    "display(ds)\n",
    "new_fs = int(np.round(fs))"
   ]
  },
  {
   "cell_type": "code",
   "execution_count": null,
   "metadata": {},
   "outputs": [],
   "source": [
    "\n",
    "\n",
    "if not np.abs(fs - new_fs) > 10**(-5):\n",
    "    display(\"Outputing wav files with integer fs, interpolating...\")\n",
    "    ds[\"resampled_song\"] = ds[\"song\"].interp(dict(t=np.arange(int(ds[\"t\"].max().item()*new_fs))/new_fs)).rename(t=\"new_t\")\n",
    "    ds[\"new_t\"].attrs[\"fs\"] = new_fs\n",
    "else:\n",
    "    ds[\"resampled_song\"] = ds[\"filtered_song\"].rename(t=\"new_t\")\n",
    "    ds[\"new_t\"].attrs[\"fs\"] = new_fs\n",
    "ds"
   ]
  },
  {
   "cell_type": "code",
   "execution_count": null,
   "metadata": {},
   "outputs": [],
   "source": [
    "import scipy.io.wavfile\n",
    "M = np.abs(ds[\"resampled_song\"]).max().item()\n",
    "scipy.io.wavfile.write(\"../\"+params[\"out_name\"], ds[\"new_t\"].attrs[\"fs\"], (ds[\"resampled_song\"].to_numpy()* (32767/M)).astype(np.int16))"
   ]
  },
  {
   "cell_type": "code",
   "execution_count": null,
   "metadata": {},
   "outputs": [],
   "source": [
    "metadata = {k:v for k,v in params.items() if not k in [\"song_path\", \"out_name\"]}\n",
    "metadata[\"duration\"] = duration\n",
    "metadata[\"original_fs\"] = fs\n",
    "metadata[\"fs\"] = fs\n",
    "metadata[\"value_rescaling\"] = 32767/M\n",
    "display(RenderJSON(metadata))\n",
    "metadata[\"date\"] = datetime.datetime.strptime(metadata[\"date\"], '%Y-%m-%d %H:%M:%S.%f')\n",
    "with Path(\"../metadata.yaml\").open(\"w\") as f:\n",
    "    yaml.safe_dump(metadata, f)"
   ]
  }
 ],
 "metadata": {
  "kernelspec": {
   "display_name": "dbscripts",
   "language": "python",
   "name": "python3"
  },
  "language_info": {
   "codemirror_mode": {
    "name": "ipython",
    "version": 3
   },
   "file_extension": ".py",
   "mimetype": "text/x-python",
   "name": "python",
   "nbconvert_exporter": "python",
   "pygments_lexer": "ipython3",
   "version": "3.11.10"
  }
 },
 "nbformat": 4,
 "nbformat_minor": 2
}
