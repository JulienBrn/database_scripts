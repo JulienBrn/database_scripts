{
 "cells": [
  {
   "cell_type": "code",
   "execution_count": null,
   "metadata": {},
   "outputs": [],
   "source": [
    "import pandas as pd, numpy as np, xarray as xr\n",
    "from pathlib import Path\n",
    "import re, yaml, copy, json\n",
    "import helper, config_adapter\n",
    "from helper import RenderJSON\n",
    "import scipy.io"
   ]
  },
  {
   "cell_type": "code",
   "execution_count": null,
   "metadata": {},
   "outputs": [],
   "source": [
    "import plotly\n",
    "plotly.offline.init_notebook_mode()\n",
    "plotly_config = {'scrollZoom': True, 'displaylogo': False, 'toImageButtonOptions': {\n",
    "    'format': 'svg', # one of png, svg, jpeg, webp\n",
    "    'filename': 'custom_image',\n",
    "    'height': None,\n",
    "    'width': None,\n",
    "    'scale': 1 # Multiply title/legend/axis/canvas sizes by this factor\n",
    "  },\n",
    "  'modeBarButtonsToAdd': \n",
    "    ['drawline',\n",
    "    'drawopenpath',\n",
    "    'drawclosedpath',\n",
    "    'drawcircle',\n",
    "    'drawrect',\n",
    "    'eraseshape'\n",
    "    ]\n",
    "  \n",
    "  }"
   ]
  },
  {
   "cell_type": "code",
   "execution_count": null,
   "metadata": {},
   "outputs": [],
   "source": [
    "import itables\n",
    "itables.init_notebook_mode(all_interactive=True )\n",
    "itables.options.maxBytes = \"1MB\"\n",
    "itables.options.lengthMenu = [25, 10, 50, 100, 200]\n",
    "itables.options.buttons = [\"copyHtml5\", \"csvHtml5\", \"excelHtml5\"]\n",
    "itables.options.layout={\"topEnd\": \"pageLength\", \"top1\": \"searchBuilder\"}"
   ]
  },
  {
   "cell_type": "code",
   "execution_count": null,
   "metadata": {},
   "outputs": [],
   "source": [
    "params = yaml.safe_load(Path(\"params.yaml\").open(\"r\"))\n",
    "RenderJSON(params)"
   ]
  },
  {
   "cell_type": "code",
   "execution_count": null,
   "metadata": {},
   "outputs": [],
   "source": [
    "config_path = Path(params[\"config_path\"])\n",
    "config = config_adapter.load(config_path)\n",
    "RenderJSON(config)"
   ]
  },
  {
   "cell_type": "code",
   "execution_count": null,
   "metadata": {},
   "outputs": [],
   "source": [
    "fs, data = scipy.io.wavfile.read(params[\"audio_path\"])\n",
    "song = xr.Dataset()\n",
    "song[\"data\"] = xr.DataArray(data, dims=\"t\")\n",
    "song[\"t\"] = np.arange(data.size)/fs\n",
    "song[\"t\"].attrs[\"fs\"] = fs\n",
    "song"
   ]
  },
  {
   "cell_type": "code",
   "execution_count": null,
   "metadata": {},
   "outputs": [],
   "source": [
    "if \"data_selection\" in config:\n",
    "    song = song.sel(t=slice(config[\"data_selection\"][\"min_t\"], config[\"data_selection\"][\"max_t\"]))\n",
    "song"
   ]
  },
  {
   "cell_type": "code",
   "execution_count": null,
   "metadata": {},
   "outputs": [],
   "source": [
    "volume_params = config[\"volume\"]\n",
    "win_size = int(np.round(volume_params[\"window_duration\"]*fs))\n",
    "stride = int(np.round(fs/volume_params[\"approx_out_fs\"]))\n",
    "if volume_params[\"window_type\"] == \"hanning\":\n",
    "    window = xr.DataArray(np.hanning(win_size), dims=\"window\")\n",
    "else:\n",
    "    raise Exception(f'Unhandled windowtype {volume_params[\"window_type\"]}')\n",
    "tmp = song[\"data\"].rolling(t=win_size, center=True).construct(\"window\", stride = stride).dropna(dim=\"t\", how=\"any\")\n",
    "volume = xr.Dataset()\n",
    "volume[\"volume\"] =  np.log10(np.abs(tmp * window).mean(\"window\"))\n",
    "volume_fs = fs/stride\n",
    "volume[\"t\"].attrs[\"fs\"] = volume_fs\n",
    "volume"
   ]
  },
  {
   "cell_type": "code",
   "execution_count": null,
   "metadata": {},
   "outputs": [],
   "source": [
    "win_size = config[\"spectrogram\"][\"nfft\"]\n",
    "stride = config[\"spectrogram\"][\"hop\"]\n",
    "spectro_window = song[\"data\"].rolling(t=win_size, min_periods=win_size, center=True).construct(\"window_t\", stride=stride)\n",
    "if config[\"spectrogram\"][\"window_type\"] ==\"hanning\":\n",
    "    spectro_window = spectro_window * xr.DataArray(np.hanning(spectro_window.sizes[\"window_t\"]), dims=\"window_t\")\n",
    "else: raise Exception(f'Unknown window type {config[\"spectrogram\"][\"window_type\"]}')\n",
    "fft = xr.apply_ufunc(np.fft.rfft, spectro_window, input_core_dims=[[\"window_t\"]], output_core_dims=[[\"f\"]])\n",
    "fft[\"f\"] = np.fft.rfftfreq(spectro_window.sizes[\"window_t\"], 1/fs)\n",
    "fft = fft.sel(f=slice(config[\"spectrogram\"][\"f_bounds\"][0], config[\"spectrogram\"][\"f_bounds\"][1]))\n",
    "psd = np.abs(fft)**2\n",
    "display_psd = np.log10(psd)\n",
    "display_psd"
   ]
  },
  {
   "cell_type": "code",
   "execution_count": null,
   "metadata": {},
   "outputs": [],
   "source": [
    "if \"annotation_path\" in params:\n",
    "    annotations = pd.read_csv(params[\"annotation_path\"]).rename(columns={\"name\": \"label\", \"start_seconds\": \"start\", \"stop_seconds\": \"end\"}).sort_values(\"start\")\n",
    "else:\n",
    "    annotations = pd.DataFrame([], columns=[\"label\", \"start\", \"end\"])\n",
    "annotations"
   ]
  },
  {
   "cell_type": "code",
   "execution_count": null,
   "metadata": {},
   "outputs": [],
   "source": [
    "if \"data_selection\" in config:\n",
    "    annotations = annotations[(annotations[\"start\"] > config[\"data_selection\"][\"min_t\"]) & (annotations[\"end\"] < config[\"data_selection\"][\"max_t\"])]\n",
    "annotations"
   ]
  },
  {
   "cell_type": "code",
   "execution_count": null,
   "metadata": {},
   "outputs": [],
   "source": [
    "all_time_series = xr.Dataset()\n",
    "max = display_psd.max().item()\n",
    "all_time_series[\"display_psd\"] = display_psd.assign_attrs(fig_zmin=max/2, fig_zmax=max)\n",
    "additional_time_series = dict(volume=volume[\"volume\"])\n",
    "if \"additional_time_series_paths\" in params:\n",
    "    for p, key in params[\"additional_time_series_paths\"]:\n",
    "        d = xr.load_dataset(p)\n",
    "        additional_time_series[key] = d[key]\n",
    "for a in additional_time_series:\n",
    "    all_time_series[a] = additional_time_series[a].interp(t=all_time_series[\"t\"])\n",
    "all_time_series\n",
    "    "
   ]
  },
  {
   "cell_type": "code",
   "execution_count": null,
   "metadata": {},
   "outputs": [],
   "source": [
    "import plotly.graph_objects as go\n",
    "from plotly.subplots import make_subplots\n",
    "heights = [all_time_series[k].ndim for k in all_time_series.data_vars]\n",
    "heights = heights/np.sum(heights)\n",
    "fig = make_subplots(rows=len(all_time_series.data_vars), cols=1, row_heights=list(heights), shared_xaxes=True)\n",
    "for i, (var, a) in enumerate(all_time_series.data_vars.items()):\n",
    "    if a.ndim==1:\n",
    "      fig.add_trace(go.Scatter(x=a[\"t\"].values, y=a.values,\n",
    "                      name=var,showlegend=False, **{k[4:]:v for k,v in a.attrs.items() if k.startswith(\"fig_\")})\n",
    "        ,row=i+1, col=1\n",
    "      )\n",
    "    elif a.ndim==2:\n",
    "      other_dim = [d for d in a.dims if not d==\"t\"][0]\n",
    "      fig.add_trace(go.Heatmap(x=a[\"t\"].values, y=a[other_dim].values, z= a.transpose(other_dim, \"t\").values,\n",
    "                     name=var,showlegend=False, colorbar=dict(len=heights[i]), colorbar_yanchor=\"middle\",\n",
    "                      colorbar_y=((np.sum(heights[i+1:]) + heights[i]/2)-0.5)*1.13+0.5,\n",
    "                     **{k[4:]:v for k,v in a.attrs.items() if k.startswith(\"fig_\")})\n",
    "        ,row=i+1, col=1\n",
    "      )\n",
    "      ny =  len(np.unique(a[other_dim].values)) \n",
    "      if ny< 20:\n",
    "         fig.update_yaxes(nticks=ny, row=i+1, col=1)\n",
    "         \n",
    "if \"syb_annotations\" in params:\n",
    "    annot_table = annotations.assign(t=(annotations[\"start\"]+annotations[\"end\"])/2)[[\"t\"]+params[\"syb_annotations\"]]\n",
    "    hover_template = ''.join([f'<br>\\t{p}: '+ '%{customdata[' + str(i) + ']}' for i, p in enumerate(params[\"syb_annotations\"])])\n",
    "    fig.add_trace(go.Scatter(\n",
    "        x=annot_table[\"t\"],\n",
    "        y=[display_psd[\"f\"].mean().item()] * len(annot_table.index) ,\n",
    "        customdata= annot_table[params[\"syb_annotations\"]],\n",
    "        mode='lines',\n",
    "        opacity=0,\n",
    "        hovertemplate =hover_template,\n",
    "        showlegend=False,\n",
    "        name=\"syb_info\"\n",
    "), row=1, col=1)\n",
    "    \n",
    "if not \"other_bounds\" in params:\n",
    "    params[\"other_bounds\"] = []\n",
    "for row in annotations.to_dict(orient=\"index\").values():\n",
    "    fig.add_vrect(x0=row[\"start\"], x1=row[\"end\"], \n",
    "                label = dict(\n",
    "                    text=row[\"label\"],\n",
    "                    textposition=\"top center\",\n",
    "                    font=dict(size=20, family=\"Times New Roman\", color=\"white\"),\n",
    "                ),\n",
    "                line=dict(color=\"MediumPurple\"))\n",
    "    for d in params[\"other_bounds\"]:\n",
    "        fig.add_vrect(x0=row[d[\"start\"]], x1=row[d[\"end\"]], \n",
    "                line=dict(color=\"yellow\", dash=\"dot\"))\n",
    "    \n",
    "# fig.update_traces(xaxis='x')\n",
    "# fig.update_shapes(selector=dict(type=\"rect\"), xref=\"x\")\n",
    "\n",
    "fig.update_layout(hovermode='x unified', hoversubplots=\"axis\", xaxis_showticklabels=True)\n",
    "fig.show(config = plotly_config)"
   ]
  }
 ],
 "metadata": {
  "language_info": {
   "name": "python"
  }
 },
 "nbformat": 4,
 "nbformat_minor": 2
}
