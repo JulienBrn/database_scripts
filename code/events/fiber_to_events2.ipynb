{
 "cells": [
  {
   "cell_type": "code",
   "execution_count": null,
   "metadata": {},
   "outputs": [],
   "source": [
    "import pandas as pd, numpy as np,xarray as xr\n",
    "from pathlib import Path\n",
    "import re, yaml, copy, json\n",
    "import helper, events_methods\n",
    "from helper import RenderJSON"
   ]
  },
  {
   "cell_type": "code",
   "execution_count": null,
   "metadata": {},
   "outputs": [],
   "source": [
    "import itables\n",
    "itables.init_notebook_mode(all_interactive=True )\n",
    "itables.options.maxBytes = \"1MB\"\n",
    "itables.options.lengthMenu = [25, 10, 50, 100, 200]\n",
    "itables.options.buttons = [\"copyHtml5\", \"csvHtml5\", \"excelHtml5\"]\n",
    "# itables.options.scrollY=\"200px\"\n",
    "# itables.options.scrollCollapse=True\n",
    "# itables.options.paging=False\n",
    "# itables.options.column_filters = \"footer\"\n",
    "itables.options.layout={\"topEnd\": \"pageLength\", \"top1\": \"searchBuilder\"}"
   ]
  },
  {
   "cell_type": "code",
   "execution_count": null,
   "metadata": {},
   "outputs": [],
   "source": [
    "params = yaml.safe_load(Path(\"params.yaml\").open(\"r\"))\n",
    "event_path = Path(params[\"fiberevents_path\"])\n",
    "info_path = Path(params[\"config_path\"])\n",
    "res_events_path = Path(params[\"dest_path\"])\n",
    "RenderJSON(params)"
   ]
  },
  {
   "cell_type": "code",
   "execution_count": null,
   "metadata": {},
   "outputs": [],
   "source": [
    "event_df = pd.read_csv(event_path, sep=\",\").rename(columns=dict(Name=\"channel_name\"))\n",
    "event_df.insert(0, \"t\", event_df.pop(\"TimeStamp\")/1000)\n",
    "event_df"
   ]
  },
  {
   "cell_type": "code",
   "execution_count": null,
   "metadata": {},
   "outputs": [],
   "source": [
    "info = yaml.safe_load(info_path.open(\"r\"))\n",
    "info"
   ]
  },
  {
   "cell_type": "code",
   "execution_count": null,
   "metadata": {},
   "outputs": [],
   "source": [
    "event_spec = events_methods.FiberEventProcessing.process_info(event_df[\"channel_name\"].drop_duplicates().to_list(), info[\"processing\"])\n",
    "pd.DataFrame(list(event_spec.values()))"
   ]
  },
  {
   "cell_type": "code",
   "execution_count": null,
   "metadata": {},
   "outputs": [],
   "source": [
    "all=[]\n",
    "for ev_name, item in event_spec.items():\n",
    "    ev_dataframe = events_methods.FiberEventProcessing.compute_evdataframe(event_df, item)\n",
    "    if len(ev_dataframe.index) == 0: continue\n",
    "    events = events_methods.FiberEventProcessing.call(item[\"method\"],ev_dataframe, item)\n",
    "    if len(events.index)!=0:\n",
    "        all.append(events)\n",
    "all = pd.concat(all).sort_values(\"t\")[[\"event_name\", \"t\", \"duration\", \"n_segments\",\"metadata\", \"waveform_changes\", \"waveform_values\"]]\n",
    "all"
   ]
  },
  {
   "cell_type": "code",
   "execution_count": null,
   "metadata": {},
   "outputs": [],
   "source": [
    "if \"display\" in info and \"rename\" in info[\"display\"]:\n",
    "    all[\"event_name\"] = all[\"event_name\"].map(lambda e: info[\"display\"][\"rename\"][e] if e in info[\"display\"][\"rename\"] else e)\n",
    "json_cols = [\"metadata\", \"waveform_changes\", \"waveform_values\"]\n",
    "for col in json_cols:\n",
    "    all[f\"{col}_json\"] = all[col].apply(lambda d: json.dumps(d))\n",
    "all.drop(columns=json_cols).to_csv(res_events_path, sep=\"\\t\", index=False)\n",
    "reloaded = pd.read_csv(res_events_path, sep=\"\\t\", index_col=False)\n",
    "for col in reloaded.columns:\n",
    "    if col.endswith(\"_json\"):\n",
    "        reloaded[col[:-5]] = reloaded.pop(col).apply(lambda s: json.loads(s) if not pd.isna(s) else None)\n",
    "reloaded"
   ]
  },
  {
   "cell_type": "code",
   "execution_count": null,
   "metadata": {},
   "outputs": [],
   "source": [
    "summary = events_methods.EventProcessing.summarize(reloaded, precision=0.02, min_score=0.5)\n",
    "summary"
   ]
  },
  {
   "cell_type": "code",
   "execution_count": null,
   "metadata": {},
   "outputs": [],
   "source": []
  }
 ],
 "metadata": {
  "kernelspec": {
   "display_name": "dev",
   "language": "python",
   "name": "python3"
  },
  "language_info": {
   "codemirror_mode": {
    "name": "ipython",
    "version": 3
   },
   "file_extension": ".py",
   "mimetype": "text/x-python",
   "name": "python",
   "nbconvert_exporter": "python",
   "pygments_lexer": "ipython3",
   "version": "3.11.10"
  }
 },
 "nbformat": 4,
 "nbformat_minor": 2
}
