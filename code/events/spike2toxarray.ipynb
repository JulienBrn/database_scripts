{
 "cells": [
  {
   "cell_type": "code",
   "execution_count": null,
   "id": "9e09dca0",
   "metadata": {
    "execution": {
     "iopub.execute_input": "2024-10-23T10:44:08.739946Z",
     "iopub.status.busy": "2024-10-23T10:44:08.739783Z",
     "iopub.status.idle": "2024-10-23T10:44:09.064030Z",
     "shell.execute_reply": "2024-10-23T10:44:09.063714Z"
    },
    "papermill": {
     "duration": 0.361494,
     "end_time": "2024-10-23T10:44:09.098903",
     "exception": false,
     "start_time": "2024-10-23T10:44:08.737409",
     "status": "completed"
    },
    "tags": []
   },
   "outputs": [],
   "source": [
    "import pandas as pd, numpy as np,xarray as xr\n",
    "from pathlib import Path\n",
    "import re, yaml, copy, json, datetime\n",
    "import helper, events_methods\n",
    "from sonpy import lib as sp\n",
    "import subprocess\n",
    "import plotly\n",
    "from helper import RenderJSON\n",
    "plotly.offline.init_notebook_mode()"
   ]
  },
  {
   "cell_type": "code",
   "execution_count": null,
   "id": "ee1365ec",
   "metadata": {
    "execution": {
     "iopub.execute_input": "2024-10-23T10:44:09.161187Z",
     "iopub.status.busy": "2024-10-23T10:44:09.161025Z",
     "iopub.status.idle": "2024-10-23T10:44:09.359539Z",
     "shell.execute_reply": "2024-10-23T10:44:09.359093Z"
    },
    "papermill": {
     "duration": 0.235806,
     "end_time": "2024-10-23T10:44:09.364860",
     "exception": false,
     "start_time": "2024-10-23T10:44:09.129054",
     "status": "completed"
    },
    "tags": []
   },
   "outputs": [],
   "source": [
    "import itables\n",
    "itables.init_notebook_mode(all_interactive=True )\n",
    "itables.options.maxBytes = \"1MB\"\n",
    "itables.options.lengthMenu = [25, 10, 50, 100, 200]\n",
    "itables.options.buttons = [\"copyHtml5\", \"csvHtml5\", \"excelHtml5\"]\n",
    "# itables.options.scrollY=\"200px\"\n",
    "# itables.options.scrollCollapse=True\n",
    "# itables.options.paging=False\n",
    "# itables.options.column_filters = \"footer\"\n",
    "itables.options.layout={\"topEnd\": \"pageLength\", \"top1\": \"searchBuilder\"}"
   ]
  },
  {
   "cell_type": "code",
   "execution_count": null,
   "id": "95077ad0",
   "metadata": {
    "execution": {
     "iopub.execute_input": "2024-10-23T10:44:09.444477Z",
     "iopub.status.busy": "2024-10-23T10:44:09.444242Z",
     "iopub.status.idle": "2024-10-23T10:44:09.447876Z",
     "shell.execute_reply": "2024-10-23T10:44:09.447637Z"
    },
    "papermill": {
     "duration": 0.040167,
     "end_time": "2024-10-23T10:44:09.448354",
     "exception": false,
     "start_time": "2024-10-23T10:44:09.408187",
     "status": "completed"
    },
    "tags": []
   },
   "outputs": [],
   "source": [
    "params = yaml.safe_load(Path(\"params.yaml\").open(\"r\"))\n",
    "spike2_path = Path(params[\"smrx_path\"])\n",
    "info_path = Path(params[\"config_path\"])\n",
    "res_path = Path(params[\"dest_path\"])\n",
    "RenderJSON(params)"
   ]
  },
  {
   "cell_type": "code",
   "execution_count": null,
   "id": "ebe9665b",
   "metadata": {
    "execution": {
     "iopub.execute_input": "2024-10-23T10:44:09.525651Z",
     "iopub.status.busy": "2024-10-23T10:44:09.525472Z",
     "iopub.status.idle": "2024-10-23T10:44:09.534181Z",
     "shell.execute_reply": "2024-10-23T10:44:09.533925Z"
    },
    "papermill": {
     "duration": 0.047256,
     "end_time": "2024-10-23T10:44:09.534745",
     "exception": false,
     "start_time": "2024-10-23T10:44:09.487489",
     "status": "completed"
    },
    "tags": []
   },
   "outputs": [],
   "source": [
    "\n",
    "MyFile = sp.SonFile(str(spike2_path), True)\n",
    "time_base = MyFile.GetTimeBase()\n",
    "date = MyFile.GetTimeDate()\n",
    "date = datetime.datetime(year=date[-1], month=date[-2], day=date[-3], hour=date[-4], minute=date[-5], second=date[-6])\n",
    "source_file = str(spike2_path)\n",
    "file_comments = [MyFile.GetFileComment(i) for i in range(8)]\n",
    "all_channels = pd.DataFrame([dict(\n",
    "    name=MyFile.GetChannelTitle(i), \n",
    "    id=i, \n",
    "    chan_type=str(MyFile.ChannelType(i))[len(\"DataType.\"):],\n",
    "    unit=MyFile.GetChannelUnits(i),\n",
    "    size=MyFile.ChannelBytes(i),\n",
    "    item_size=MyFile.ItemSize(i),\n",
    "    scale=MyFile.GetChannelScale(i)/6553.6,\n",
    "    offset=MyFile.GetChannelOffset(i),\n",
    "    divide = MyFile.ChannelDivide(i)*time_base,\n",
    "    comment = MyFile.GetChannelComment(i),\n",
    "\n",
    ")  for i in range(MyFile.MaxChannels()) if MyFile.ChannelType(i) != sp.DataType.Off])\n",
    "all_channels\n",
    "\n"
   ]
  },
  {
   "cell_type": "code",
   "execution_count": null,
   "id": "87297100",
   "metadata": {
    "execution": {
     "iopub.execute_input": "2024-10-23T10:44:09.609924Z",
     "iopub.status.busy": "2024-10-23T10:44:09.609785Z",
     "iopub.status.idle": "2024-10-23T10:44:09.613211Z",
     "shell.execute_reply": "2024-10-23T10:44:09.612982Z"
    },
    "papermill": {
     "duration": 0.041396,
     "end_time": "2024-10-23T10:44:09.613860",
     "exception": false,
     "start_time": "2024-10-23T10:44:09.572464",
     "status": "completed"
    },
    "tags": []
   },
   "outputs": [],
   "source": [
    "info = yaml.safe_load(info_path.open(\"r\"))\n",
    "info"
   ]
  },
  {
   "cell_type": "code",
   "execution_count": null,
   "id": "fbfe4b7e",
   "metadata": {
    "execution": {
     "iopub.execute_input": "2024-10-23T10:44:09.689847Z",
     "iopub.status.busy": "2024-10-23T10:44:09.689399Z",
     "iopub.status.idle": "2024-10-23T10:44:09.701603Z",
     "shell.execute_reply": "2024-10-23T10:44:09.701275Z"
    },
    "papermill": {
     "duration": 0.051646,
     "end_time": "2024-10-23T10:44:09.702194",
     "exception": false,
     "start_time": "2024-10-23T10:44:09.650548",
     "status": "completed"
    },
    "tags": []
   },
   "outputs": [],
   "source": [
    "channels_dict = {k+\"_channel\": grp[\"name\"].to_list() for k, grp in all_channels.groupby(\"chan_type\")}\n",
    "processing = events_methods.EventProcessing.process_info(channels_dict, info[\"processing\"] , dest_name=\"dest_channel\")\n",
    "processing_df = pd.DataFrame(list(processing.values()))\n",
    "processing_df [\"name\"] = processing_df[\"method_params\"].apply(lambda m: m[\"channel_name\"])\n",
    "processing_df  = processing_df.merge(all_channels, how=\"left\", on=\"name\")\n",
    "processing_df"
   ]
  },
  {
   "cell_type": "code",
   "execution_count": null,
   "id": "08f4e34f",
   "metadata": {
    "execution": {
     "iopub.execute_input": "2024-10-23T10:44:09.779540Z",
     "iopub.status.busy": "2024-10-23T10:44:09.779331Z",
     "iopub.status.idle": "2024-10-23T10:44:09.781368Z",
     "shell.execute_reply": "2024-10-23T10:44:09.781089Z"
    },
    "papermill": {
     "duration": 0.040606,
     "end_time": "2024-10-23T10:44:09.781954",
     "exception": false,
     "start_time": "2024-10-23T10:44:09.741348",
     "status": "completed"
    },
    "tags": []
   },
   "outputs": [],
   "source": [
    "datas = {}\n",
    "for _, row in processing_df.iterrows():\n",
    "    if row[\"method\"]==\"adc_extract\":\n",
    "        if row[\"chan_type\"] != \"Adc\":\n",
    "            raise Exception(\"problem\")\n",
    "        fs = 1/(row[\"divide\"])\n",
    "        data = []\n",
    "        block_size = 10**6\n",
    "        current = 0\n",
    "        while True:\n",
    "            fetch_data = sp.SonFile.ReadInts(MyFile, row[\"id\"], block_size, current)\n",
    "            if len(fetch_data) > 0:\n",
    "                data.append(np.array(fetch_data))\n",
    "            if len(fetch_data) < block_size:\n",
    "                break\n",
    "            current+=len(fetch_data)\n",
    "        data = np.concatenate(data)\n",
    "        data = xr.DataArray(data*row[\"scale\"]+row[\"offset\"], dims=\"t\")\n",
    "        data[\"t\"] = np.arange(data.size)*row[\"divide\"]\n",
    "        data[\"t\"].attrs = dict(fs=1/row[\"divide\"])\n",
    "        data.attrs = dict(unit = row[\"unit\"], spike2_chan_type=row[\"chan_type\"], spike2_id=row[\"id\"], spike2_name=row[\"name\"], comment=row[\"comment\"])\n",
    "        # n_interp_start=10**6\n",
    "        # n_interp_val = 10**5\n",
    "        # if data.size > n_interp_start:\n",
    "        #     display_data = data.interp(t=np.linspace(data[\"t\"].min().item(),data[\"t\"].max().item(), n_interp_val))\n",
    "        #     display_name = row[\"dest_channel\"] + \"_interp_\" + f'{1/row[\"divide\"]}Hz -> {np.round((data[\"t\"].max().item() - data[\"t\"].min().item())/n_interp_val)}Hz'\n",
    "        # else:\n",
    "        #     display_data = data\n",
    "        #     display_name = row[\"dest_channel\"]\n",
    "        data=data.to_dataset(name=row[\"dest_channel\"])\n",
    "        data.attrs = dict(date=date.isoformat(), source_file=source_file) | {f\"comment_{i}\": v for i,v in enumerate(file_comments) if not v==\"\"}\n",
    "        display(data)\n",
    "        data.to_netcdf(row[\"method_params\"][\"dest_file\"])\n",
    "        datas[row[\"dest_channel\"]] = row[\"method_params\"][\"dest_file\"]\n",
    "        # fig.add_trace(go.Scatter(x=display_data[\"t\"].to_numpy(), y=display_data.to_numpy(), name=display_name))"
   ]
  },
  {
   "cell_type": "code",
   "execution_count": null,
   "id": "5dac5e2f",
   "metadata": {},
   "outputs": [],
   "source": [
    "channels_dict = {k+\"_channel\": grp[\"name\"].to_list() for k, grp in all_channels.groupby(\"chan_type\")}\n",
    "display = events_methods.EventProcessing.process_info(channels_dict, info[\"display\"] , dest_name=\"dest_trace\")\n",
    "display = pd.DataFrame(list(display.values()))\n",
    "display[[\"fig\", \"label\"]] = display[\"dest_trace\"].str.split(\":\", expand=True)\n",
    "display"
   ]
  },
  {
   "cell_type": "code",
   "execution_count": null,
   "id": "345343e3",
   "metadata": {},
   "outputs": [],
   "source": [
    "import plotly.graph_objects as go\n",
    "from plotly.subplots import make_subplots\n",
    "for title, grp in display.groupby(\"fig\"):\n",
    "    fig = make_subplots(specs=[[{\"secondary_y\": grp[\"method_params\"].apply(lambda d: d[\"secondary_y\"]).any()}]])\n",
    "    for _, row in grp.iterrows():\n",
    "        if row[\"method\"] == 'continuous_xrarray':\n",
    "            data = xr.load_dataset(row[\"method_params\"][\"file\"])[row[\"method_params\"][\"variable\"]]\n",
    "            if data.size > row[\"method_params\"][\"max_numpoints\"]:\n",
    "                display_data = data.interp(t=np.linspace(data[\"t\"].min().item(),data[\"t\"].max().item(), row[\"method_params\"][\"max_numpoints\"]))\n",
    "                display_name = row[\"label\"] + \"_interp_\" + f'{data[\"t\"].attrs[\"fs\"]}Hz -> {np.round(row[\"method_params\"][\"max_numpoints\"] /(data[\"t\"].max().item() - data[\"t\"].min().item()))}Hz'\n",
    "            else:\n",
    "                display_data = data\n",
    "                display_name = row[\"label\"]\n",
    "            fig.add_trace(go.Scatter(x=display_data[\"t\"].to_numpy(), y=display_data.to_numpy(), name=display_name), secondary_y=row[\"method_params\"][\"secondary_y\"])\n",
    "                \n",
    "    fig.show()\n"
   ]
  }
 ],
 "metadata": {
  "kernelspec": {
   "display_name": "spike2",
   "language": "python",
   "name": "python3"
  },
  "language_info": {
   "codemirror_mode": {
    "name": "ipython",
    "version": 3
   },
   "file_extension": ".py",
   "mimetype": "text/x-python",
   "name": "python",
   "nbconvert_exporter": "python",
   "pygments_lexer": "ipython3",
   "version": "3.9.19"
  },
  "papermill": {
   "default_parameters": {},
   "duration": 1.963901,
   "end_time": "2024-10-23T10:44:10.035413",
   "environment_variables": {},
   "exception": null,
   "input_path": "/home/julienb/Documents/database_scripts/code/spike2toxarray.ipynb",
   "output_path": "/home/julienb/Documents/database_scripts/runs/test_runconfig_v1/spike2.tmp/spike2toxarray.ipynb",
   "parameters": {},
   "start_time": "2024-10-23T10:44:08.071512",
   "version": "2.6.0"
  }
 },
 "nbformat": 4,
 "nbformat_minor": 5
}
