{
 "cells": [
  {
   "cell_type": "markdown",
   "metadata": {},
   "source": [
    "# Initialization"
   ]
  },
  {
   "cell_type": "code",
   "execution_count": null,
   "metadata": {},
   "outputs": [],
   "source": [
    "from pathlib import Path\n",
    "from datetime import datetime\n",
    "import helper\n",
    "import yaml, pandas as pd, numpy as np, tqdm.auto as tqdm, shutil, subprocess\n",
    "from helper import RenderJSON\n",
    "import config_adapter\n"
   ]
  },
  {
   "cell_type": "code",
   "execution_count": null,
   "metadata": {},
   "outputs": [],
   "source": [
    "import itables\n",
    "itables.init_notebook_mode(all_interactive=True )\n",
    "itables.options.maxBytes = \"1MB\"\n",
    "itables.options.lengthMenu = [25, 10, 50, 100, 200]\n",
    "itables.options.buttons = [\"copyHtml5\", \"csvHtml5\", \"excelHtml5\"]\n",
    "itables.options.layout={\"topEnd\": \"pageLength\", \"top1\": \"searchBuilder\"}"
   ]
  },
  {
   "cell_type": "code",
   "execution_count": null,
   "metadata": {
    "tags": [
     "parameters"
    ]
   },
   "outputs": [],
   "source": [
    "# Autofilled by calling script\n",
    "param_path = \"_\" # Path to param config file\n",
    "scripts_folder = \"_\" # Path to folder containing all scripts"
   ]
  },
  {
   "cell_type": "code",
   "execution_count": null,
   "metadata": {},
   "outputs": [],
   "source": [
    "param_path = Path(param_path)\n",
    "scripts_folder = Path(scripts_folder)\n",
    "params = config_adapter.load(param_path)\n",
    "RenderJSON(params)"
   ]
  },
  {
   "cell_type": "code",
   "execution_count": null,
   "metadata": {},
   "outputs": [],
   "source": [
    "if \"variables\" in params:\n",
    "    variables = config_adapter.normalize_yaml_paramlist(params[\"variables\"], format=config_adapter.variable_param_format)\n",
    "else:\n",
    "    variables = {}\n",
    "# handled_params = helper.replace_vals(params, variables)\n",
    "ctx = config_adapter.Context()\n",
    "ctx.methods[\"raw\"] = config_adapter.raw\n",
    "ctx.methods[\"expand_envvars\"] = config_adapter.expand_envvars\n",
    "for var in variables:\n",
    "    config_adapter.add_variable_context(ctx, var)\n",
    "RenderJSON(ctx.variables)\n"
   ]
  },
  {
   "cell_type": "code",
   "execution_count": null,
   "metadata": {},
   "outputs": [],
   "source": [
    "if \"tables\" in params:\n",
    "    tables = config_adapter.normalize_yaml_paramlist(params[\"tables\"], format=config_adapter.table_param_format)\n",
    "else: \n",
    "    tables = []\n",
    "ctx.methods[\"find_files\"] = config_adapter.find_files\n",
    "ctx.methods[\"regex_filter\"] = config_adapter.regex_filter\n",
    "ctx.methods[\"from_rows\"] = config_adapter.from_rows\n",
    "ctx.methods[\"longest_prefix_join\"] = config_adapter.longest_prefix_join\n",
    "\n",
    "for table in tables:\n",
    "    it_table = config_adapter.handle_duplicate_over(config_adapter.get_duplicate_table(ctx, table), table)\n",
    "    for t in it_table:\n",
    "        config_adapter.add_table_context(ctx, t)\n",
    "for n, t in ctx.tables.items():\n",
    "    t.style.set_caption(n)\n",
    "    display(t)"
   ]
  },
  {
   "cell_type": "code",
   "execution_count": null,
   "metadata": {},
   "outputs": [],
   "source": [
    "runs = [ctx.evaluate(r) for i in params[\"runs\"] for r in config_adapter.handle_duplicate_over(config_adapter.get_duplicate_table(ctx, i), i) ]\n",
    "display(RenderJSON(runs))\n",
    "run_df = pd.DataFrame(runs).assign(run_num=np.arange(len(runs)))\n",
    "run_df"
   ]
  },
  {
   "cell_type": "code",
   "execution_count": null,
   "metadata": {},
   "outputs": [],
   "source": [
    "# run_df = pd.DataFrame(handled_params[\"runs\"]).assign(run_num=np.arange(len(handled_params[\"runs\"])))\n",
    "# run_df.insert(0, \"run_num\", run_df.pop(\"run_num\"))\n",
    "# if run_df[\"run_folder\"].duplicated().any():\n",
    "#     raise Exception(\"run folder must be different\")\n",
    "# run_df[\"imports\"] = run_df.pop(\"imports\")\n",
    "# run_df[\"script_params\"] = run_df.pop(\"script_params\")\n",
    "# run_df\n",
    "    "
   ]
  },
  {
   "cell_type": "code",
   "execution_count": null,
   "metadata": {},
   "outputs": [],
   "source": [
    "infos = []\n",
    "for _, row in tqdm.tqdm(run_df.iterrows(), total=len(run_df.index)):\n",
    "    current_info = {}\n",
    "    current_info[\"run_num\"] = row[\"run_num\"]\n",
    "    current_info[\"script\"] = row[\"script\"]\n",
    "    current_info[\"start_time\"] = datetime.now()\n",
    "    try:\n",
    "        run_folder = Path(row[\"run_folder\"]+\".tmp\")\n",
    "        if run_folder.exists():\n",
    "            shutil.rmtree(run_folder)\n",
    "        dest_folder = Path(row[\"run_folder\"])\n",
    "        run_folder.mkdir(exist_ok=True, parents=True)\n",
    "        if \"imports\" in row:\n",
    "            if not isinstance(row[\"imports\"], list):\n",
    "                row[\"imports\"] = [row[\"imports\"]]\n",
    "            for im in row[\"imports\"]:\n",
    "                fl = scripts_folder.glob(im)\n",
    "                for f in fl:\n",
    "                    shutil.copyfile(f, run_folder / f.name)\n",
    "        with (run_folder / \"params.yaml\").open(\"w\") as f:\n",
    "            yaml.dump(row[\"script_params\"], f)\n",
    "        env = row['environment']  if \"environment\" in row else subprocess.run('echo $CONDA_DEFAULT_ENV', shell=True, stdout=subprocess.PIPE).stdout\n",
    "        subprocess.run(f\"conda run -n {env} papermill --cwd '{run_folder}' '{scripts_folder/row['script']}' '{run_folder/row['script']}'\", shell=True, check=True)\n",
    "\n",
    "        \n",
    "    except Exception as e:\n",
    "        current_info[\"sucess\"] = False\n",
    "        print(f\"Error during run number {row['run_num']}\")\n",
    "        display(e)\n",
    "    else:\n",
    "        current_info[\"sucess\"] = True\n",
    "    try:\n",
    "        subprocess.run(f'jupyter nbconvert --to html {run_folder/row[\"script\"]}', shell=True, check=True)\n",
    "    except Exception as e:\n",
    "        print(\"Error while attempting to convert to notebook\")\n",
    "        display(e)\n",
    "        current_info[\"html_sucess\"] = False\n",
    "    else:\n",
    "        current_info[\"html_sucess\"] = True\n",
    "    if (run_folder / \"__pycache__\").exists():\n",
    "        shutil.rmtree(run_folder / \"__pycache__\")\n",
    "    if current_info[\"sucess\"] & current_info[\"html_sucess\"]:\n",
    "        if dest_folder.exists():\n",
    "            shutil.rmtree(dest_folder)\n",
    "        shutil.move(run_folder, dest_folder)\n",
    "    current_info[\"end_time\"] = datetime.now()\n",
    "    infos.append(current_info)\n",
    "infos = pd.DataFrame(infos)\n",
    "infos[\"duration\"] = (infos[\"end_time\"] - infos[\"start_time\"]).dt.total_seconds()\n",
    "infos=infos.drop(columns=[\"end_time\"])\n",
    "infos"
   ]
  },
  {
   "cell_type": "code",
   "execution_count": null,
   "metadata": {},
   "outputs": [],
   "source": [
    "all = infos.merge(run_df, how=\"left\", on=[\"run_num\", \"script\"])\n",
    "all[\"notebook_url\"] = '<a href=\"'+ all.apply(lambda row: str((Path(row[\"run_folder\"]) / row[\"script\"]).with_suffix(\".html\").resolve()), axis=1) + '\">notebook</a>'\n",
    "all.insert(1, \"notebook_url\", all.pop(\"notebook_url\").where(all[\"html_sucess\"]))\n",
    "all\n",
    "# all.drop(columns=\"script_params\")"
   ]
  },
  {
   "cell_type": "code",
   "execution_count": null,
   "metadata": {},
   "outputs": [],
   "source": [
    "if \"run_summary_folder\" in params:\n",
    "    all.to_csv(Path(ctx.evaluate(params[\"run_summary_folder\"]))/\"run_summary.tsv\", sep=\"\\t\", index=False)\n",
    "    "
   ]
  }
 ],
 "metadata": {
  "kernelspec": {
   "display_name": "dbscripts",
   "language": "python",
   "name": "python3"
  },
  "language_info": {
   "codemirror_mode": {
    "name": "ipython",
    "version": 3
   },
   "file_extension": ".py",
   "mimetype": "text/x-python",
   "name": "python",
   "nbconvert_exporter": "python",
   "pygments_lexer": "ipython3",
   "version": "3.11.10"
  }
 },
 "nbformat": 4,
 "nbformat_minor": 2
}
