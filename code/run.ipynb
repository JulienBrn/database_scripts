{
 "cells": [
  {
   "cell_type": "code",
   "execution_count": 1,
   "metadata": {},
   "outputs": [],
   "source": [
    "from pathlib import Path\n",
    "from datetime import datetime\n",
    "import helper\n",
    "import yaml, pandas as pd, numpy as np, tqdm.auto as tqdm, shutil, subprocess\n"
   ]
  },
  {
   "cell_type": "code",
   "execution_count": 2,
   "metadata": {
    "tags": [
     "parameters"
    ]
   },
   "outputs": [],
   "source": [
    "param_path = \"/home/julienb/Documents/database_scripts/run_configs/run_config_v1.yaml\""
   ]
  },
  {
   "cell_type": "code",
   "execution_count": 3,
   "metadata": {},
   "outputs": [
    {
     "name": "stdout",
     "output_type": "stream",
     "text": [
      "{'variables': {'base_folder': '/home/julienb/Documents/database_scripts', 'this_run_config': 'test_runconfig_v1'}, 'runs': [{'script': 'polydat_file_to_events2.ipynb', 'imports': ['events_methods.py', 'helper.py'], 'environment': 'dbscripts', 'script_params': {'dat_path': '/home/julienb/Documents/database_scripts/analysis_test_data/poly_dat_files/Rats/Luisa/Rat101_0729_opto_01/Rat101_0729_opto_01.dat', 'task_path': '/home/julienb/Documents/database_scripts/analysis_test_data/poly_dat_files/Rats/Luisa/Rat101_0729_opto_01.xls', 'config_path': '/home/julienb/Documents/database_scripts/templates/poly_rat_model.yaml', 'dest_path': 'events.tsv'}, 'run_folder': '{base_folder}/runs/{this_run_config}/poly'}]}\n"
     ]
    }
   ],
   "source": [
    "param_path = Path(param_path)\n",
    "params = yaml.safe_load(param_path.open(\"r\"))\n",
    "print(params)"
   ]
  },
  {
   "cell_type": "code",
   "execution_count": 4,
   "metadata": {},
   "outputs": [
    {
     "data": {
      "text/plain": [
       "[{'script': 'polydat_file_to_events2.ipynb',\n",
       "  'imports': ['events_methods.py', 'helper.py'],\n",
       "  'environment': 'dbscripts',\n",
       "  'script_params': {'dat_path': '/home/julienb/Documents/database_scripts/analysis_test_data/poly_dat_files/Rats/Luisa/Rat101_0729_opto_01/Rat101_0729_opto_01.dat',\n",
       "   'task_path': '/home/julienb/Documents/database_scripts/analysis_test_data/poly_dat_files/Rats/Luisa/Rat101_0729_opto_01.xls',\n",
       "   'config_path': '/home/julienb/Documents/database_scripts/templates/poly_rat_model.yaml',\n",
       "   'dest_path': 'events.tsv'},\n",
       "  'run_folder': '/home/julienb/Documents/database_scripts/runs/test_runconfig_v1/poly'}]"
      ]
     },
     "execution_count": 4,
     "metadata": {},
     "output_type": "execute_result"
    }
   ],
   "source": [
    "handled_params = helper.replace_vals(params[\"runs\"], params[\"variables\"])\n",
    "handled_params\n"
   ]
  },
  {
   "cell_type": "code",
   "execution_count": 5,
   "metadata": {},
   "outputs": [
    {
     "data": {
      "text/html": [
       "<div>\n",
       "<style scoped>\n",
       "    .dataframe tbody tr th:only-of-type {\n",
       "        vertical-align: middle;\n",
       "    }\n",
       "\n",
       "    .dataframe tbody tr th {\n",
       "        vertical-align: top;\n",
       "    }\n",
       "\n",
       "    .dataframe thead th {\n",
       "        text-align: right;\n",
       "    }\n",
       "</style>\n",
       "<table border=\"1\" class=\"dataframe\">\n",
       "  <thead>\n",
       "    <tr style=\"text-align: right;\">\n",
       "      <th></th>\n",
       "      <th>script</th>\n",
       "      <th>imports</th>\n",
       "      <th>environment</th>\n",
       "      <th>script_params</th>\n",
       "      <th>run_folder</th>\n",
       "      <th>run_num</th>\n",
       "    </tr>\n",
       "  </thead>\n",
       "  <tbody>\n",
       "    <tr>\n",
       "      <th>0</th>\n",
       "      <td>polydat_file_to_events2.ipynb</td>\n",
       "      <td>[events_methods.py, helper.py]</td>\n",
       "      <td>dbscripts</td>\n",
       "      <td>{'dat_path': '/home/julienb/Documents/database...</td>\n",
       "      <td>/home/julienb/Documents/database_scripts/runs/...</td>\n",
       "      <td>0</td>\n",
       "    </tr>\n",
       "  </tbody>\n",
       "</table>\n",
       "</div>"
      ],
      "text/plain": [
       "                          script                         imports environment  \\\n",
       "0  polydat_file_to_events2.ipynb  [events_methods.py, helper.py]   dbscripts   \n",
       "\n",
       "                                       script_params  \\\n",
       "0  {'dat_path': '/home/julienb/Documents/database...   \n",
       "\n",
       "                                          run_folder  run_num  \n",
       "0  /home/julienb/Documents/database_scripts/runs/...        0  "
      ]
     },
     "execution_count": 5,
     "metadata": {},
     "output_type": "execute_result"
    }
   ],
   "source": [
    "run_df = pd.DataFrame(handled_params).assign(run_num=np.arange(len(handled_params)))\n",
    "if run_df[\"run_folder\"].duplicated().any():\n",
    "    raise Exception(\"run folder must be different\")\n",
    "run_df\n",
    "    "
   ]
  },
  {
   "cell_type": "code",
   "execution_count": 6,
   "metadata": {},
   "outputs": [
    {
     "data": {
      "application/vnd.jupyter.widget-view+json": {
       "model_id": "8bda720ae2154d2ca0c538eb185834e7",
       "version_major": 2,
       "version_minor": 0
      },
      "text/plain": [
       "  0%|          | 0/1 [00:00<?, ?it/s]"
      ]
     },
     "metadata": {},
     "output_type": "display_data"
    },
    {
     "name": "stderr",
     "output_type": "stream",
     "text": [
      "Input Notebook:  polydat_file_to_events2.ipynb\n",
      "Output Notebook: /home/julienb/Documents/database_scripts/runs/test_runconfig_v1/poly.tmp/polydat_file_to_events2.ipynb\n",
      "Working directory: /home/julienb/Documents/database_scripts/runs/test_runconfig_v1/poly.tmp\n",
      "\n",
      "Executing:   0%|          | 0/19 [00:00<?, ?cell/s]Executing notebook with kernel: python3\n",
      "\n",
      "Executing:   5%|▌         | 1/19 [00:00<00:12,  1.45cell/s]\n",
      "Executing:  11%|█         | 2/19 [00:00<00:07,  2.31cell/s]\n",
      "Executing:  16%|█▌        | 3/19 [00:01<00:05,  2.99cell/s]\n",
      "Executing:  32%|███▏      | 6/19 [00:01<00:01,  6.78cell/s]\n",
      "Executing:  53%|█████▎    | 10/19 [00:01<00:00,  9.73cell/s]\n",
      "Executing:  74%|███████▎  | 14/19 [00:01<00:00, 14.58cell/s]\n",
      "Executing:  89%|████████▉ | 17/19 [00:02<00:00,  5.55cell/s]\n",
      "Executing: 100%|██████████| 19/19 [00:03<00:00,  5.79cell/s]\n",
      "Executing: 100%|██████████| 19/19 [00:03<00:00,  5.51cell/s]\n",
      "\n",
      "[NbConvertApp] Converting notebook /home/julienb/Documents/database_scripts/runs/test_runconfig_v1/poly.tmp/polydat_file_to_events2.ipynb to html\n",
      "[NbConvertApp] Writing 2505899 bytes to /home/julienb/Documents/database_scripts/runs/test_runconfig_v1/poly.tmp/polydat_file_to_events2.html\n"
     ]
    },
    {
     "data": {
      "text/html": [
       "<div>\n",
       "<style scoped>\n",
       "    .dataframe tbody tr th:only-of-type {\n",
       "        vertical-align: middle;\n",
       "    }\n",
       "\n",
       "    .dataframe tbody tr th {\n",
       "        vertical-align: top;\n",
       "    }\n",
       "\n",
       "    .dataframe thead th {\n",
       "        text-align: right;\n",
       "    }\n",
       "</style>\n",
       "<table border=\"1\" class=\"dataframe\">\n",
       "  <thead>\n",
       "    <tr style=\"text-align: right;\">\n",
       "      <th></th>\n",
       "      <th>run_num</th>\n",
       "      <th>script</th>\n",
       "      <th>start_time</th>\n",
       "      <th>sucess</th>\n",
       "      <th>html_sucess</th>\n",
       "      <th>duration</th>\n",
       "    </tr>\n",
       "  </thead>\n",
       "  <tbody>\n",
       "    <tr>\n",
       "      <th>0</th>\n",
       "      <td>0</td>\n",
       "      <td>polydat_file_to_events2.ipynb</td>\n",
       "      <td>2024-10-21 17:44:53.804541</td>\n",
       "      <td>True</td>\n",
       "      <td>True</td>\n",
       "      <td>5.131564</td>\n",
       "    </tr>\n",
       "  </tbody>\n",
       "</table>\n",
       "</div>"
      ],
      "text/plain": [
       "   run_num                         script                 start_time  sucess  \\\n",
       "0        0  polydat_file_to_events2.ipynb 2024-10-21 17:44:53.804541    True   \n",
       "\n",
       "   html_sucess  duration  \n",
       "0         True  5.131564  "
      ]
     },
     "execution_count": 6,
     "metadata": {},
     "output_type": "execute_result"
    }
   ],
   "source": [
    "infos = []\n",
    "for _, row in tqdm.tqdm(run_df.iterrows(), total=len(run_df.index)):\n",
    "    current_info = {}\n",
    "    current_info[\"run_num\"] = row[\"run_num\"]\n",
    "    current_info[\"script\"] = row[\"script\"]\n",
    "    current_info[\"start_time\"] = datetime.now()\n",
    "    try:\n",
    "        run_folder = Path(row[\"run_folder\"]+\".tmp\")\n",
    "        if run_folder.exists():\n",
    "            shutil.rmtree(run_folder)\n",
    "        dest_folder = Path(row[\"run_folder\"])\n",
    "        run_folder.mkdir(exist_ok=True, parents=True)\n",
    "        if \"imports\" in row:\n",
    "            if not isinstance(row[\"imports\"], list):\n",
    "                row[\"imports\"] = [row[\"imports\"]]\n",
    "            for im in row[\"imports\"]:\n",
    "                shutil.copy(im, run_folder / im)\n",
    "        # shutil.copy(row['script'], run_folder/row['script'])\n",
    "        with (run_folder / \"params.yaml\").open(\"w\") as f:\n",
    "            yaml.dump(row[\"script_params\"], f)\n",
    "        # if \"environment\" in row:\n",
    "        #     subprocess.run(f\"conda run -n {row['environment']} papermill '{run_folder / row['script']}'\", shell=True)\n",
    "        # else:\n",
    "        subprocess.run(f\"conda run -n dbscripts papermill --cwd '{run_folder}' '{row['script']}' '{run_folder/row['script']}' \", shell=True, check=True)\n",
    "\n",
    "        \n",
    "    except Exception as e:\n",
    "        current_info[\"sucess\"] = False\n",
    "        print(f\"Error during run number {row['run_num']}\")\n",
    "        display(e)\n",
    "    else:\n",
    "        current_info[\"sucess\"] = True\n",
    "    try:\n",
    "        subprocess.run(f'jupyter nbconvert --to html {run_folder/row[\"script\"]}', shell=True)\n",
    "    except Exception as e:\n",
    "        print(\"Error while attempting to convert to notebook\")\n",
    "        display(e)\n",
    "        current_info[\"html_sucess\"] = False\n",
    "    else:\n",
    "        current_info[\"html_sucess\"] = True\n",
    "    if (run_folder / \"__pycache__\").exists():\n",
    "        shutil.rmtree(run_folder / \"__pycache__\")\n",
    "    if current_info[\"sucess\"] & current_info[\"html_sucess\"]:\n",
    "        if dest_folder.exists():\n",
    "            shutil.rmtree(dest_folder)\n",
    "        shutil.move(run_folder, dest_folder)\n",
    "    current_info[\"end_time\"] = datetime.now()\n",
    "    infos.append(current_info)\n",
    "infos = pd.DataFrame(infos)\n",
    "infos[\"duration\"] = (infos[\"end_time\"] - infos[\"start_time\"]).dt.total_seconds()\n",
    "infos=infos.drop(columns=[\"end_time\"])\n",
    "infos"
   ]
  },
  {
   "cell_type": "code",
   "execution_count": null,
   "metadata": {},
   "outputs": [],
   "source": []
  }
 ],
 "metadata": {
  "kernelspec": {
   "display_name": "dbscripts",
   "language": "python",
   "name": "python3"
  },
  "language_info": {
   "codemirror_mode": {
    "name": "ipython",
    "version": 3
   },
   "file_extension": ".py",
   "mimetype": "text/x-python",
   "name": "python",
   "nbconvert_exporter": "python",
   "pygments_lexer": "ipython3",
   "version": "3.11.10"
  }
 },
 "nbformat": 4,
 "nbformat_minor": 2
}
