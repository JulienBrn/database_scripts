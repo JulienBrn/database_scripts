{
 "cells": [
  {
   "cell_type": "code",
   "execution_count": null,
   "metadata": {},
   "outputs": [],
   "source": [
    "from pathlib import Path\n",
    "from datetime import datetime\n",
    "import helper\n",
    "import yaml, pandas as pd, numpy as np, tqdm.auto as tqdm, shutil, subprocess\n"
   ]
  },
  {
   "cell_type": "code",
   "execution_count": null,
   "metadata": {
    "tags": [
     "parameters"
    ]
   },
   "outputs": [],
   "source": [
    "param_path = \"_\"\n",
    "scripts_folder = \"_\""
   ]
  },
  {
   "cell_type": "code",
   "execution_count": null,
   "metadata": {},
   "outputs": [],
   "source": [
    "param_path = Path(param_path)\n",
    "scripts_folder = Path(scripts_folder)\n",
    "params = yaml.safe_load(param_path.open(\"r\"))\n",
    "print(params)"
   ]
  },
  {
   "cell_type": "code",
   "execution_count": null,
   "metadata": {},
   "outputs": [],
   "source": [
    "\n",
    "variables =  params[\"variables\"] if \"variables\" in params else {}\n",
    "handled_params = helper.replace_vals(params, variables)\n",
    "del params[\"variables\"]\n",
    "handled_params\n"
   ]
  },
  {
   "cell_type": "code",
   "execution_count": null,
   "metadata": {},
   "outputs": [],
   "source": [
    "run_df = pd.DataFrame(handled_params[\"runs\"]).assign(run_num=np.arange(len(handled_params[\"runs\"])))\n",
    "if run_df[\"run_folder\"].duplicated().any():\n",
    "    raise Exception(\"run folder must be different\")\n",
    "run_df\n",
    "    "
   ]
  },
  {
   "cell_type": "code",
   "execution_count": null,
   "metadata": {},
   "outputs": [],
   "source": [
    "infos = []\n",
    "for _, row in tqdm.tqdm(run_df.iterrows(), total=len(run_df.index)):\n",
    "    current_info = {}\n",
    "    current_info[\"run_num\"] = row[\"run_num\"]\n",
    "    current_info[\"script\"] = row[\"script\"]\n",
    "    current_info[\"start_time\"] = datetime.now()\n",
    "    try:\n",
    "        run_folder = Path(row[\"run_folder\"]+\".tmp\")\n",
    "        if run_folder.exists():\n",
    "            shutil.rmtree(run_folder)\n",
    "        dest_folder = Path(row[\"run_folder\"])\n",
    "        run_folder.mkdir(exist_ok=True, parents=True)\n",
    "        if \"imports\" in row:\n",
    "            if not isinstance(row[\"imports\"], list):\n",
    "                row[\"imports\"] = [row[\"imports\"]]\n",
    "            for im in row[\"imports\"]:\n",
    "                shutil.copy(scripts_folder / im, run_folder / im)\n",
    "        with (run_folder / \"params.yaml\").open(\"w\") as f:\n",
    "            yaml.dump(row[\"script_params\"], f)\n",
    "        env = row['environment']  if \"environment\" in row else subprocess.run('echo $CONDA_DEFAULT_ENV', shell=True, stdout=subprocess.PIPE).stdout\n",
    "        subprocess.run(f\"conda run -n {env} papermill --cwd '{run_folder}' '{scripts_folder/row['script']}' '{run_folder/row['script']}'\", shell=True, check=True)\n",
    "\n",
    "        \n",
    "    except Exception as e:\n",
    "        current_info[\"sucess\"] = False\n",
    "        print(f\"Error during run number {row['run_num']}\")\n",
    "        display(e)\n",
    "    else:\n",
    "        current_info[\"sucess\"] = True\n",
    "    try:\n",
    "        subprocess.run(f'jupyter nbconvert --to html {run_folder/row[\"script\"]}', shell=True, check=True)\n",
    "    except Exception as e:\n",
    "        print(\"Error while attempting to convert to notebook\")\n",
    "        display(e)\n",
    "        current_info[\"html_sucess\"] = False\n",
    "    else:\n",
    "        current_info[\"html_sucess\"] = True\n",
    "    if (run_folder / \"__pycache__\").exists():\n",
    "        shutil.rmtree(run_folder / \"__pycache__\")\n",
    "    if current_info[\"sucess\"] & current_info[\"html_sucess\"]:\n",
    "        if dest_folder.exists():\n",
    "            shutil.rmtree(dest_folder)\n",
    "        shutil.move(run_folder, dest_folder)\n",
    "    current_info[\"end_time\"] = datetime.now()\n",
    "    infos.append(current_info)\n",
    "infos = pd.DataFrame(infos)\n",
    "infos[\"duration\"] = (infos[\"end_time\"] - infos[\"start_time\"]).dt.total_seconds()\n",
    "infos=infos.drop(columns=[\"end_time\"])\n",
    "infos"
   ]
  },
  {
   "cell_type": "code",
   "execution_count": null,
   "metadata": {},
   "outputs": [],
   "source": [
    "all = pd.merge(run_df, infos, how=\"outer\", on=[\"run_num\", \"script\"])\n",
    "all"
   ]
  },
  {
   "cell_type": "code",
   "execution_count": null,
   "metadata": {},
   "outputs": [],
   "source": [
    "if \"run_summary_folder\" in handled_params:\n",
    "    all.to_csv(Path(handled_params[\"run_summary_folder\"])/\"run_summary.tsv\", sep=\"\\t\", index=False)\n",
    "    "
   ]
  }
 ],
 "metadata": {
  "kernelspec": {
   "display_name": "dbscripts",
   "language": "python",
   "name": "python3"
  },
  "language_info": {
   "codemirror_mode": {
    "name": "ipython",
    "version": 3
   },
   "file_extension": ".py",
   "mimetype": "text/x-python",
   "name": "python",
   "nbconvert_exporter": "python",
   "pygments_lexer": "ipython3",
   "version": "3.11.10"
  }
 },
 "nbformat": 4,
 "nbformat_minor": 2
}
